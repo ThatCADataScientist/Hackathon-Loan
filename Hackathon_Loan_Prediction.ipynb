{
  "nbformat": 4,
  "nbformat_minor": 0,
  "metadata": {
    "colab": {
      "name": "Hackathon-Loan_Prediction.ipynb",
      "provenance": [],
      "collapsed_sections": [],
      "include_colab_link": true
    },
    "kernelspec": {
      "name": "python3",
      "display_name": "Python 3"
    },
    "accelerator": "GPU"
  },
  "cells": [
    {
      "cell_type": "markdown",
      "metadata": {
        "id": "view-in-github",
        "colab_type": "text"
      },
      "source": [
        "<a href=\"https://colab.research.google.com/github/VarunNangalia/Hackathon-Loan/blob/master/Hackathon_Loan_Prediction.ipynb\" target=\"_parent\"><img src=\"https://colab.research.google.com/assets/colab-badge.svg\" alt=\"Open In Colab\"/></a>"
      ]
    },
    {
      "cell_type": "markdown",
      "metadata": {
        "id": "vC2sUn7O80nA",
        "colab_type": "text"
      },
      "source": [
        "#Hackathon-Loan Prediction"
      ]
    },
    {
      "cell_type": "code",
      "metadata": {
        "id": "TBYb5EOAoYLA",
        "colab_type": "code",
        "colab": {
          "base_uri": "https://localhost:8080/",
          "height": 105
        },
        "outputId": "21ea565c-c583-4a81-be13-56ac704b9a9a"
      },
      "source": [
        "import numpy as np\n",
        "import matplotlib.pyplot as plt\n",
        "import pandas as pd\n",
        "from sklearn.neighbors import KNeighborsClassifier\n",
        "import seaborn as sns\n",
        "from sklearn.model_selection import GridSearchCV\n",
        "from sklearn.metrics import *\n",
        "from sklearn.tree import DecisionTreeRegressor\n",
        "from sklearn.linear_model import LinearRegression\n",
        "from xgboost.sklearn import XGBRegressor\n",
        "from sklearn.discriminant_analysis import LinearDiscriminantAnalysis\n",
        "from sklearn.linear_model import LinearRegression\n",
        "from sklearn.naive_bayes import GaussianNB\n",
        "from lightgbm import LGBMRegressor\n",
        "from sklearn.linear_model import ElasticNet\n",
        "from sklearn.linear_model import Ridge\n",
        "from sklearn.model_selection import cross_val_score\n",
        "from sklearn.model_selection import RepeatedKFold\n",
        "from sklearn.pipeline import Pipeline\n",
        "from sklearn.impute import SimpleImputer\n",
        "from xgboost import XGBClassifier\n",
        "from mlxtend.classifier import StackingClassifier\n",
        "from sklearn.linear_model import Lasso\n",
        "from sklearn.model_selection import RandomizedSearchCV\n",
        "from scipy.stats import uniform\n",
        "from sklearn.ensemble import GradientBoostingRegressor\n",
        "from math import sqrt\n",
        "from sklearn.preprocessing import StandardScaler\n",
        "from sklearn.preprocessing import OneHotEncoder\n",
        "from sklearn.model_selection import train_test_split\n",
        "from sklearn.model_selection import cross_val_score\n",
        "from sklearn.ensemble import RandomForestRegressor\n",
        "from sklearn import svm\n",
        "from scipy import stats\n",
        "from sklearn.linear_model import SGDRegressor\n",
        "from sklearn.tree import DecisionTreeClassifier\n",
        "from sklearn.ensemble import AdaBoostClassifier\n",
        "from sklearn.preprocessing import LabelEncoder\n",
        "from sklearn.linear_model import Ridge\n",
        "from sklearn.linear_model import Lasso\n",
        "from sklearn.linear_model import LogisticRegression\n",
        "from sklearn.model_selection import StratifiedKFold\n",
        "from sklearn.metrics import precision_score, recall_score,confusion_matrix,accuracy_score,f1_score\n",
        "from sklearn.ensemble import RandomForestClassifier\n",
        "from sklearn.svm import SVC\n",
        "from sklearn.ensemble import GradientBoostingClassifier\n",
        "from sklearn.linear_model import RidgeClassifier\n",
        "from xgboost import XGBClassifier\n",
        "from sklearn.metrics import make_scorer"
      ],
      "execution_count": 1,
      "outputs": [
        {
          "output_type": "stream",
          "text": [
            "/usr/local/lib/python3.6/dist-packages/statsmodels/tools/_testing.py:19: FutureWarning: pandas.util.testing is deprecated. Use the functions in the public API at pandas.testing instead.\n",
            "  import pandas.util.testing as tm\n",
            "/usr/local/lib/python3.6/dist-packages/sklearn/externals/six.py:31: FutureWarning: The module is deprecated in version 0.21 and will be removed in version 0.23 since we've dropped support for Python 2.7. Please rely on the official version of six (https://pypi.org/project/six/).\n",
            "  \"(https://pypi.org/project/six/).\", FutureWarning)\n"
          ],
          "name": "stderr"
        }
      ]
    },
    {
      "cell_type": "code",
      "metadata": {
        "id": "wZcCEykgpHs8",
        "colab_type": "code",
        "colab": {
          "base_uri": "https://localhost:8080/",
          "height": 241
        },
        "outputId": "04a22fcd-8be1-4eda-c1a2-97ccd1549ef1"
      },
      "source": [
        "df_train_data=pd.read_csv('train_ctrUa4K.csv')\n",
        "df_test_data=pd.read_csv('test_lAUu6dG.csv')\n",
        "df_train_data.head()"
      ],
      "execution_count": 2,
      "outputs": [
        {
          "output_type": "execute_result",
          "data": {
            "text/html": [
              "<div>\n",
              "<style scoped>\n",
              "    .dataframe tbody tr th:only-of-type {\n",
              "        vertical-align: middle;\n",
              "    }\n",
              "\n",
              "    .dataframe tbody tr th {\n",
              "        vertical-align: top;\n",
              "    }\n",
              "\n",
              "    .dataframe thead th {\n",
              "        text-align: right;\n",
              "    }\n",
              "</style>\n",
              "<table border=\"1\" class=\"dataframe\">\n",
              "  <thead>\n",
              "    <tr style=\"text-align: right;\">\n",
              "      <th></th>\n",
              "      <th>Loan_ID</th>\n",
              "      <th>Gender</th>\n",
              "      <th>Married</th>\n",
              "      <th>Dependents</th>\n",
              "      <th>Education</th>\n",
              "      <th>Self_Employed</th>\n",
              "      <th>ApplicantIncome</th>\n",
              "      <th>CoapplicantIncome</th>\n",
              "      <th>LoanAmount</th>\n",
              "      <th>Loan_Amount_Term</th>\n",
              "      <th>Credit_History</th>\n",
              "      <th>Property_Area</th>\n",
              "      <th>Loan_Status</th>\n",
              "    </tr>\n",
              "  </thead>\n",
              "  <tbody>\n",
              "    <tr>\n",
              "      <th>0</th>\n",
              "      <td>LP001002</td>\n",
              "      <td>Male</td>\n",
              "      <td>No</td>\n",
              "      <td>0</td>\n",
              "      <td>Graduate</td>\n",
              "      <td>No</td>\n",
              "      <td>5849</td>\n",
              "      <td>0.0</td>\n",
              "      <td>NaN</td>\n",
              "      <td>360.0</td>\n",
              "      <td>1.0</td>\n",
              "      <td>Urban</td>\n",
              "      <td>Y</td>\n",
              "    </tr>\n",
              "    <tr>\n",
              "      <th>1</th>\n",
              "      <td>LP001003</td>\n",
              "      <td>Male</td>\n",
              "      <td>Yes</td>\n",
              "      <td>1</td>\n",
              "      <td>Graduate</td>\n",
              "      <td>No</td>\n",
              "      <td>4583</td>\n",
              "      <td>1508.0</td>\n",
              "      <td>128.0</td>\n",
              "      <td>360.0</td>\n",
              "      <td>1.0</td>\n",
              "      <td>Rural</td>\n",
              "      <td>N</td>\n",
              "    </tr>\n",
              "    <tr>\n",
              "      <th>2</th>\n",
              "      <td>LP001005</td>\n",
              "      <td>Male</td>\n",
              "      <td>Yes</td>\n",
              "      <td>0</td>\n",
              "      <td>Graduate</td>\n",
              "      <td>Yes</td>\n",
              "      <td>3000</td>\n",
              "      <td>0.0</td>\n",
              "      <td>66.0</td>\n",
              "      <td>360.0</td>\n",
              "      <td>1.0</td>\n",
              "      <td>Urban</td>\n",
              "      <td>Y</td>\n",
              "    </tr>\n",
              "    <tr>\n",
              "      <th>3</th>\n",
              "      <td>LP001006</td>\n",
              "      <td>Male</td>\n",
              "      <td>Yes</td>\n",
              "      <td>0</td>\n",
              "      <td>Not Graduate</td>\n",
              "      <td>No</td>\n",
              "      <td>2583</td>\n",
              "      <td>2358.0</td>\n",
              "      <td>120.0</td>\n",
              "      <td>360.0</td>\n",
              "      <td>1.0</td>\n",
              "      <td>Urban</td>\n",
              "      <td>Y</td>\n",
              "    </tr>\n",
              "    <tr>\n",
              "      <th>4</th>\n",
              "      <td>LP001008</td>\n",
              "      <td>Male</td>\n",
              "      <td>No</td>\n",
              "      <td>0</td>\n",
              "      <td>Graduate</td>\n",
              "      <td>No</td>\n",
              "      <td>6000</td>\n",
              "      <td>0.0</td>\n",
              "      <td>141.0</td>\n",
              "      <td>360.0</td>\n",
              "      <td>1.0</td>\n",
              "      <td>Urban</td>\n",
              "      <td>Y</td>\n",
              "    </tr>\n",
              "  </tbody>\n",
              "</table>\n",
              "</div>"
            ],
            "text/plain": [
              "    Loan_ID Gender Married  ... Credit_History Property_Area Loan_Status\n",
              "0  LP001002   Male      No  ...            1.0         Urban           Y\n",
              "1  LP001003   Male     Yes  ...            1.0         Rural           N\n",
              "2  LP001005   Male     Yes  ...            1.0         Urban           Y\n",
              "3  LP001006   Male     Yes  ...            1.0         Urban           Y\n",
              "4  LP001008   Male      No  ...            1.0         Urban           Y\n",
              "\n",
              "[5 rows x 13 columns]"
            ]
          },
          "metadata": {
            "tags": []
          },
          "execution_count": 2
        }
      ]
    },
    {
      "cell_type": "code",
      "metadata": {
        "id": "AIjmC9xrG1oL",
        "colab_type": "code",
        "colab": {
          "base_uri": "https://localhost:8080/",
          "height": 374
        },
        "outputId": "76a13071-bdbf-47ad-a7f9-a0b3eee0dff3"
      },
      "source": [
        "print(df_train_data.info())"
      ],
      "execution_count": 3,
      "outputs": [
        {
          "output_type": "stream",
          "text": [
            "<class 'pandas.core.frame.DataFrame'>\n",
            "RangeIndex: 614 entries, 0 to 613\n",
            "Data columns (total 13 columns):\n",
            " #   Column             Non-Null Count  Dtype  \n",
            "---  ------             --------------  -----  \n",
            " 0   Loan_ID            614 non-null    object \n",
            " 1   Gender             601 non-null    object \n",
            " 2   Married            611 non-null    object \n",
            " 3   Dependents         599 non-null    object \n",
            " 4   Education          614 non-null    object \n",
            " 5   Self_Employed      582 non-null    object \n",
            " 6   ApplicantIncome    614 non-null    int64  \n",
            " 7   CoapplicantIncome  614 non-null    float64\n",
            " 8   LoanAmount         592 non-null    float64\n",
            " 9   Loan_Amount_Term   600 non-null    float64\n",
            " 10  Credit_History     564 non-null    float64\n",
            " 11  Property_Area      614 non-null    object \n",
            " 12  Loan_Status        614 non-null    object \n",
            "dtypes: float64(4), int64(1), object(8)\n",
            "memory usage: 62.5+ KB\n",
            "None\n"
          ],
          "name": "stdout"
        }
      ]
    },
    {
      "cell_type": "markdown",
      "metadata": {
        "id": "ma4AumHC-QEB",
        "colab_type": "text"
      },
      "source": [
        "There are 7 Columns with missing values"
      ]
    },
    {
      "cell_type": "code",
      "metadata": {
        "id": "BMw44Ca59QMJ",
        "colab_type": "code",
        "colab": {
          "base_uri": "https://localhost:8080/",
          "height": 574
        },
        "outputId": "e78a2460-a11c-4b99-f32e-f83aef738561"
      },
      "source": [
        "plt.figure(figsize=(8,8))\n",
        "sns.heatmap(df_train_data.corr(),cmap='viridis',annot=True,linewidths=0.2,fmt='.2f')\n",
        "plt.show()"
      ],
      "execution_count": 4,
      "outputs": [
        {
          "output_type": "display_data",
          "data": {
            "image/png": "[encoded data removed]",
            "text/plain": [
              "<Figure size 576x576 with 2 Axes>"
            ]
          },
          "metadata": {
            "tags": [],
            "needs_background": "light"
          }
        }
      ]
    },
    {
      "cell_type": "markdown",
      "metadata": {
        "id": "y6kdTxsZHKBt",
        "colab_type": "text"
      },
      "source": [
        "\n",
        "\n",
        "1.   LoanAmount and Application Income have moderate amount of Possitive Correlation depicting that a person with high income will demand for a greater amount of Loan.  \n",
        "2.   Rest of the columns do not depict much correlation\n",
        "\n"
      ]
    },
    {
      "cell_type": "code",
      "metadata": {
        "id": "b74gkwdDh9O4",
        "colab_type": "code",
        "colab": {
          "base_uri": "https://localhost:8080/",
          "height": 241
        },
        "outputId": "d186cfea-7f4c-4a09-97a5-1f60c930a968"
      },
      "source": [
        "df_test_data.head()"
      ],
      "execution_count": 5,
      "outputs": [
        {
          "output_type": "execute_result",
          "data": {
            "text/html": [
              "<div>\n",
              "<style scoped>\n",
              "    .dataframe tbody tr th:only-of-type {\n",
              "        vertical-align: middle;\n",
              "    }\n",
              "\n",
              "    .dataframe tbody tr th {\n",
              "        vertical-align: top;\n",
              "    }\n",
              "\n",
              "    .dataframe thead th {\n",
              "        text-align: right;\n",
              "    }\n",
              "</style>\n",
              "<table border=\"1\" class=\"dataframe\">\n",
              "  <thead>\n",
              "    <tr style=\"text-align: right;\">\n",
              "      <th></th>\n",
              "      <th>Loan_ID</th>\n",
              "      <th>Gender</th>\n",
              "      <th>Married</th>\n",
              "      <th>Dependents</th>\n",
              "      <th>Education</th>\n",
              "      <th>Self_Employed</th>\n",
              "      <th>ApplicantIncome</th>\n",
              "      <th>CoapplicantIncome</th>\n",
              "      <th>LoanAmount</th>\n",
              "      <th>Loan_Amount_Term</th>\n",
              "      <th>Credit_History</th>\n",
              "      <th>Property_Area</th>\n",
              "    </tr>\n",
              "  </thead>\n",
              "  <tbody>\n",
              "    <tr>\n",
              "      <th>0</th>\n",
              "      <td>LP001015</td>\n",
              "      <td>Male</td>\n",
              "      <td>Yes</td>\n",
              "      <td>0</td>\n",
              "      <td>Graduate</td>\n",
              "      <td>No</td>\n",
              "      <td>5720</td>\n",
              "      <td>0</td>\n",
              "      <td>110.0</td>\n",
              "      <td>360.0</td>\n",
              "      <td>1.0</td>\n",
              "      <td>Urban</td>\n",
              "    </tr>\n",
              "    <tr>\n",
              "      <th>1</th>\n",
              "      <td>LP001022</td>\n",
              "      <td>Male</td>\n",
              "      <td>Yes</td>\n",
              "      <td>1</td>\n",
              "      <td>Graduate</td>\n",
              "      <td>No</td>\n",
              "      <td>3076</td>\n",
              "      <td>1500</td>\n",
              "      <td>126.0</td>\n",
              "      <td>360.0</td>\n",
              "      <td>1.0</td>\n",
              "      <td>Urban</td>\n",
              "    </tr>\n",
              "    <tr>\n",
              "      <th>2</th>\n",
              "      <td>LP001031</td>\n",
              "      <td>Male</td>\n",
              "      <td>Yes</td>\n",
              "      <td>2</td>\n",
              "      <td>Graduate</td>\n",
              "      <td>No</td>\n",
              "      <td>5000</td>\n",
              "      <td>1800</td>\n",
              "      <td>208.0</td>\n",
              "      <td>360.0</td>\n",
              "      <td>1.0</td>\n",
              "      <td>Urban</td>\n",
              "    </tr>\n",
              "    <tr>\n",
              "      <th>3</th>\n",
              "      <td>LP001035</td>\n",
              "      <td>Male</td>\n",
              "      <td>Yes</td>\n",
              "      <td>2</td>\n",
              "      <td>Graduate</td>\n",
              "      <td>No</td>\n",
              "      <td>2340</td>\n",
              "      <td>2546</td>\n",
              "      <td>100.0</td>\n",
              "      <td>360.0</td>\n",
              "      <td>NaN</td>\n",
              "      <td>Urban</td>\n",
              "    </tr>\n",
              "    <tr>\n",
              "      <th>4</th>\n",
              "      <td>LP001051</td>\n",
              "      <td>Male</td>\n",
              "      <td>No</td>\n",
              "      <td>0</td>\n",
              "      <td>Not Graduate</td>\n",
              "      <td>No</td>\n",
              "      <td>3276</td>\n",
              "      <td>0</td>\n",
              "      <td>78.0</td>\n",
              "      <td>360.0</td>\n",
              "      <td>1.0</td>\n",
              "      <td>Urban</td>\n",
              "    </tr>\n",
              "  </tbody>\n",
              "</table>\n",
              "</div>"
            ],
            "text/plain": [
              "    Loan_ID Gender Married  ... Loan_Amount_Term Credit_History Property_Area\n",
              "0  LP001015   Male     Yes  ...            360.0            1.0         Urban\n",
              "1  LP001022   Male     Yes  ...            360.0            1.0         Urban\n",
              "2  LP001031   Male     Yes  ...            360.0            1.0         Urban\n",
              "3  LP001035   Male     Yes  ...            360.0            NaN         Urban\n",
              "4  LP001051   Male      No  ...            360.0            1.0         Urban\n",
              "\n",
              "[5 rows x 12 columns]"
            ]
          },
          "metadata": {
            "tags": []
          },
          "execution_count": 5
        }
      ]
    },
    {
      "cell_type": "code",
      "metadata": {
        "id": "p_OMC3vR-01a",
        "colab_type": "code",
        "colab": {
          "base_uri": "https://localhost:8080/",
          "height": 280
        },
        "outputId": "c0d54410-1fc4-45c0-91c3-3e5ef2e072dd"
      },
      "source": [
        "sns.countplot(data =df_train_data, x='Loan_Status')\n",
        "plt.show()"
      ],
      "execution_count": 6,
      "outputs": [
        {
          "output_type": "display_data",
          "data": {
            "image/png": "[encoded data removed]",
            "text/plain": [
              "<Figure size 432x288 with 1 Axes>"
            ]
          },
          "metadata": {
            "tags": [],
            "needs_background": "light"
          }
        }
      ]
    },
    {
      "cell_type": "markdown",
      "metadata": {
        "id": "5fixA0oTDyeB",
        "colab_type": "text"
      },
      "source": [
        "It is evident that more applicants were provided loan than not yet this is not a case of Imbalance Dataset."
      ]
    },
    {
      "cell_type": "code",
      "metadata": {
        "id": "SOcAwpgrEMrI",
        "colab_type": "code",
        "colab": {
          "base_uri": "https://localhost:8080/",
          "height": 419
        },
        "outputId": "1c819dae-65fc-4f44-bda2-16948c883af0"
      },
      "source": [
        "df_train_data.drop(['Loan_ID'],axis=1,inplace=True)\n",
        "df_train_data_con = df_train_data.select_dtypes(include=np.number)\n",
        "df_train_data_con"
      ],
      "execution_count": 7,
      "outputs": [
        {
          "output_type": "execute_result",
          "data": {
            "text/html": [
              "<div>\n",
              "<style scoped>\n",
              "    .dataframe tbody tr th:only-of-type {\n",
              "        vertical-align: middle;\n",
              "    }\n",
              "\n",
              "    .dataframe tbody tr th {\n",
              "        vertical-align: top;\n",
              "    }\n",
              "\n",
              "    .dataframe thead th {\n",
              "        text-align: right;\n",
              "    }\n",
              "</style>\n",
              "<table border=\"1\" class=\"dataframe\">\n",
              "  <thead>\n",
              "    <tr style=\"text-align: right;\">\n",
              "      <th></th>\n",
              "      <th>ApplicantIncome</th>\n",
              "      <th>CoapplicantIncome</th>\n",
              "      <th>LoanAmount</th>\n",
              "      <th>Loan_Amount_Term</th>\n",
              "      <th>Credit_History</th>\n",
              "    </tr>\n",
              "  </thead>\n",
              "  <tbody>\n",
              "    <tr>\n",
              "      <th>0</th>\n",
              "      <td>5849</td>\n",
              "      <td>0.0</td>\n",
              "      <td>NaN</td>\n",
              "      <td>360.0</td>\n",
              "      <td>1.0</td>\n",
              "    </tr>\n",
              "    <tr>\n",
              "      <th>1</th>\n",
              "      <td>4583</td>\n",
              "      <td>1508.0</td>\n",
              "      <td>128.0</td>\n",
              "      <td>360.0</td>\n",
              "      <td>1.0</td>\n",
              "    </tr>\n",
              "    <tr>\n",
              "      <th>2</th>\n",
              "      <td>3000</td>\n",
              "      <td>0.0</td>\n",
              "      <td>66.0</td>\n",
              "      <td>360.0</td>\n",
              "      <td>1.0</td>\n",
              "    </tr>\n",
              "    <tr>\n",
              "      <th>3</th>\n",
              "      <td>2583</td>\n",
              "      <td>2358.0</td>\n",
              "      <td>120.0</td>\n",
              "      <td>360.0</td>\n",
              "      <td>1.0</td>\n",
              "    </tr>\n",
              "    <tr>\n",
              "      <th>4</th>\n",
              "      <td>6000</td>\n",
              "      <td>0.0</td>\n",
              "      <td>141.0</td>\n",
              "      <td>360.0</td>\n",
              "      <td>1.0</td>\n",
              "    </tr>\n",
              "    <tr>\n",
              "      <th>...</th>\n",
              "      <td>...</td>\n",
              "      <td>...</td>\n",
              "      <td>...</td>\n",
              "      <td>...</td>\n",
              "      <td>...</td>\n",
              "    </tr>\n",
              "    <tr>\n",
              "      <th>609</th>\n",
              "      <td>2900</td>\n",
              "      <td>0.0</td>\n",
              "      <td>71.0</td>\n",
              "      <td>360.0</td>\n",
              "      <td>1.0</td>\n",
              "    </tr>\n",
              "    <tr>\n",
              "      <th>610</th>\n",
              "      <td>4106</td>\n",
              "      <td>0.0</td>\n",
              "      <td>40.0</td>\n",
              "      <td>180.0</td>\n",
              "      <td>1.0</td>\n",
              "    </tr>\n",
              "    <tr>\n",
              "      <th>611</th>\n",
              "      <td>8072</td>\n",
              "      <td>240.0</td>\n",
              "      <td>253.0</td>\n",
              "      <td>360.0</td>\n",
              "      <td>1.0</td>\n",
              "    </tr>\n",
              "    <tr>\n",
              "      <th>612</th>\n",
              "      <td>7583</td>\n",
              "      <td>0.0</td>\n",
              "      <td>187.0</td>\n",
              "      <td>360.0</td>\n",
              "      <td>1.0</td>\n",
              "    </tr>\n",
              "    <tr>\n",
              "      <th>613</th>\n",
              "      <td>4583</td>\n",
              "      <td>0.0</td>\n",
              "      <td>133.0</td>\n",
              "      <td>360.0</td>\n",
              "      <td>0.0</td>\n",
              "    </tr>\n",
              "  </tbody>\n",
              "</table>\n",
              "<p>614 rows × 5 columns</p>\n",
              "</div>"
            ],
            "text/plain": [
              "     ApplicantIncome  CoapplicantIncome  ...  Loan_Amount_Term  Credit_History\n",
              "0               5849                0.0  ...             360.0             1.0\n",
              "1               4583             1508.0  ...             360.0             1.0\n",
              "2               3000                0.0  ...             360.0             1.0\n",
              "3               2583             2358.0  ...             360.0             1.0\n",
              "4               6000                0.0  ...             360.0             1.0\n",
              "..               ...                ...  ...               ...             ...\n",
              "609             2900                0.0  ...             360.0             1.0\n",
              "610             4106                0.0  ...             180.0             1.0\n",
              "611             8072              240.0  ...             360.0             1.0\n",
              "612             7583                0.0  ...             360.0             1.0\n",
              "613             4583                0.0  ...             360.0             0.0\n",
              "\n",
              "[614 rows x 5 columns]"
            ]
          },
          "metadata": {
            "tags": []
          },
          "execution_count": 7
        }
      ]
    },
    {
      "cell_type": "code",
      "metadata": {
        "id": "8gzk2scEEn4j",
        "colab_type": "code",
        "colab": {
          "base_uri": "https://localhost:8080/",
          "height": 419
        },
        "outputId": "8adaee2a-11da-42b7-e3e2-fc2832837085"
      },
      "source": [
        "df_train_data_cat=df_train_data.select_dtypes(exclude=np.number)\n",
        "df_train_data_cat"
      ],
      "execution_count": 8,
      "outputs": [
        {
          "output_type": "execute_result",
          "data": {
            "text/html": [
              "<div>\n",
              "<style scoped>\n",
              "    .dataframe tbody tr th:only-of-type {\n",
              "        vertical-align: middle;\n",
              "    }\n",
              "\n",
              "    .dataframe tbody tr th {\n",
              "        vertical-align: top;\n",
              "    }\n",
              "\n",
              "    .dataframe thead th {\n",
              "        text-align: right;\n",
              "    }\n",
              "</style>\n",
              "<table border=\"1\" class=\"dataframe\">\n",
              "  <thead>\n",
              "    <tr style=\"text-align: right;\">\n",
              "      <th></th>\n",
              "      <th>Gender</th>\n",
              "      <th>Married</th>\n",
              "      <th>Dependents</th>\n",
              "      <th>Education</th>\n",
              "      <th>Self_Employed</th>\n",
              "      <th>Property_Area</th>\n",
              "      <th>Loan_Status</th>\n",
              "    </tr>\n",
              "  </thead>\n",
              "  <tbody>\n",
              "    <tr>\n",
              "      <th>0</th>\n",
              "      <td>Male</td>\n",
              "      <td>No</td>\n",
              "      <td>0</td>\n",
              "      <td>Graduate</td>\n",
              "      <td>No</td>\n",
              "      <td>Urban</td>\n",
              "      <td>Y</td>\n",
              "    </tr>\n",
              "    <tr>\n",
              "      <th>1</th>\n",
              "      <td>Male</td>\n",
              "      <td>Yes</td>\n",
              "      <td>1</td>\n",
              "      <td>Graduate</td>\n",
              "      <td>No</td>\n",
              "      <td>Rural</td>\n",
              "      <td>N</td>\n",
              "    </tr>\n",
              "    <tr>\n",
              "      <th>2</th>\n",
              "      <td>Male</td>\n",
              "      <td>Yes</td>\n",
              "      <td>0</td>\n",
              "      <td>Graduate</td>\n",
              "      <td>Yes</td>\n",
              "      <td>Urban</td>\n",
              "      <td>Y</td>\n",
              "    </tr>\n",
              "    <tr>\n",
              "      <th>3</th>\n",
              "      <td>Male</td>\n",
              "      <td>Yes</td>\n",
              "      <td>0</td>\n",
              "      <td>Not Graduate</td>\n",
              "      <td>No</td>\n",
              "      <td>Urban</td>\n",
              "      <td>Y</td>\n",
              "    </tr>\n",
              "    <tr>\n",
              "      <th>4</th>\n",
              "      <td>Male</td>\n",
              "      <td>No</td>\n",
              "      <td>0</td>\n",
              "      <td>Graduate</td>\n",
              "      <td>No</td>\n",
              "      <td>Urban</td>\n",
              "      <td>Y</td>\n",
              "    </tr>\n",
              "    <tr>\n",
              "      <th>...</th>\n",
              "      <td>...</td>\n",
              "      <td>...</td>\n",
              "      <td>...</td>\n",
              "      <td>...</td>\n",
              "      <td>...</td>\n",
              "      <td>...</td>\n",
              "      <td>...</td>\n",
              "    </tr>\n",
              "    <tr>\n",
              "      <th>609</th>\n",
              "      <td>Female</td>\n",
              "      <td>No</td>\n",
              "      <td>0</td>\n",
              "      <td>Graduate</td>\n",
              "      <td>No</td>\n",
              "      <td>Rural</td>\n",
              "      <td>Y</td>\n",
              "    </tr>\n",
              "    <tr>\n",
              "      <th>610</th>\n",
              "      <td>Male</td>\n",
              "      <td>Yes</td>\n",
              "      <td>3+</td>\n",
              "      <td>Graduate</td>\n",
              "      <td>No</td>\n",
              "      <td>Rural</td>\n",
              "      <td>Y</td>\n",
              "    </tr>\n",
              "    <tr>\n",
              "      <th>611</th>\n",
              "      <td>Male</td>\n",
              "      <td>Yes</td>\n",
              "      <td>1</td>\n",
              "      <td>Graduate</td>\n",
              "      <td>No</td>\n",
              "      <td>Urban</td>\n",
              "      <td>Y</td>\n",
              "    </tr>\n",
              "    <tr>\n",
              "      <th>612</th>\n",
              "      <td>Male</td>\n",
              "      <td>Yes</td>\n",
              "      <td>2</td>\n",
              "      <td>Graduate</td>\n",
              "      <td>No</td>\n",
              "      <td>Urban</td>\n",
              "      <td>Y</td>\n",
              "    </tr>\n",
              "    <tr>\n",
              "      <th>613</th>\n",
              "      <td>Female</td>\n",
              "      <td>No</td>\n",
              "      <td>0</td>\n",
              "      <td>Graduate</td>\n",
              "      <td>Yes</td>\n",
              "      <td>Semiurban</td>\n",
              "      <td>N</td>\n",
              "    </tr>\n",
              "  </tbody>\n",
              "</table>\n",
              "<p>614 rows × 7 columns</p>\n",
              "</div>"
            ],
            "text/plain": [
              "     Gender Married Dependents  ... Self_Employed Property_Area Loan_Status\n",
              "0      Male      No          0  ...            No         Urban           Y\n",
              "1      Male     Yes          1  ...            No         Rural           N\n",
              "2      Male     Yes          0  ...           Yes         Urban           Y\n",
              "3      Male     Yes          0  ...            No         Urban           Y\n",
              "4      Male      No          0  ...            No         Urban           Y\n",
              "..      ...     ...        ...  ...           ...           ...         ...\n",
              "609  Female      No          0  ...            No         Rural           Y\n",
              "610    Male     Yes         3+  ...            No         Rural           Y\n",
              "611    Male     Yes          1  ...            No         Urban           Y\n",
              "612    Male     Yes          2  ...            No         Urban           Y\n",
              "613  Female      No          0  ...           Yes     Semiurban           N\n",
              "\n",
              "[614 rows x 7 columns]"
            ]
          },
          "metadata": {
            "tags": []
          },
          "execution_count": 8
        }
      ]
    },
    {
      "cell_type": "code",
      "metadata": {
        "id": "S93kuKPVFOfO",
        "colab_type": "code",
        "colab": {
          "base_uri": "https://localhost:8080/",
          "height": 1000
        },
        "outputId": "93fd8124-a12b-48f7-f7ab-7f47f7cfdf43"
      },
      "source": [
        "# to check the data distribution in numerical values\n",
        "for i in df_train_data_con.columns:\n",
        "  print(i)\n",
        "  sns.distplot(df_train_data_con[i])\n",
        "  plt.show()\n",
        "  print(df_train_data_con[i].skew())"
      ],
      "execution_count": 9,
      "outputs": [
        {
          "output_type": "stream",
          "text": [
            "ApplicantIncome\n"
          ],
          "name": "stdout"
        },
        {
          "output_type": "display_data",
          "data": {
            "image/png": "[encoded data removed]",
            "text/plain": [
              "<Figure size 432x288 with 1 Axes>"
            ]
          },
          "metadata": {
            "tags": [],
            "needs_background": "light"
          }
        },
        {
          "output_type": "stream",
          "text": [
            "6.539513113994625\n",
            "CoapplicantIncome\n"
          ],
          "name": "stdout"
        },
        {
          "output_type": "display_data",
          "data": {
            "image/png": "[encoded data removed]",
            "text/plain": [
              "<Figure size 432x288 with 1 Axes>"
            ]
          },
          "metadata": {
            "tags": [],
            "needs_background": "light"
          }
        },
        {
          "output_type": "stream",
          "text": [
            "7.491531216657306\n",
            "LoanAmount\n"
          ],
          "name": "stdout"
        },
        {
          "output_type": "display_data",
          "data": {
            "image/png": "[encoded data removed]",
            "text/plain": [
              "<Figure size 432x288 with 1 Axes>"
            ]
          },
          "metadata": {
            "tags": [],
            "needs_background": "light"
          }
        },
        {
          "output_type": "stream",
          "text": [
            "2.677551679256059\n",
            "Loan_Amount_Term\n"
          ],
          "name": "stdout"
        },
        {
          "output_type": "display_data",
          "data": {
            "image/png": "[encoded data removed]",
            "text/plain": [
              "<Figure size 432x288 with 1 Axes>"
            ]
          },
          "metadata": {
            "tags": [],
            "needs_background": "light"
          }
        },
        {
          "output_type": "stream",
          "text": [
            "-2.362414124216269\n",
            "Credit_History\n"
          ],
          "name": "stdout"
        },
        {
          "output_type": "display_data",
          "data": {
            "image/png": "[encoded data removed]",
            "text/plain": [
              "<Figure size 432x288 with 1 Axes>"
            ]
          },
          "metadata": {
            "tags": [],
            "needs_background": "light"
          }
        },
        {
          "output_type": "stream",
          "text": [
            "-1.8823610612186696\n"
          ],
          "name": "stdout"
        }
      ]
    },
    {
      "cell_type": "markdown",
      "metadata": {
        "id": "4U628V6QGO92",
        "colab_type": "text"
      },
      "source": [
        " \n",
        "\n",
        "*   There are 5 columns which are considered as Continous. However with further exploring we come to know that columns \"Loan_Amount_Term\" and \"Credit_History\" are categorical columns.\n",
        "*   Columns 'Applicant_Income' and 'Coapplicant_Income' are Possitvely Skewed and we will have to treat that. We can either Scaler our data or use logarithmic transformation for them\n",
        "*   Column 'Loan_Amount' is not much skewed\n",
        " "
      ]
    },
    {
      "cell_type": "code",
      "metadata": {
        "id": "NBDe-llyJANM",
        "colab_type": "code",
        "colab": {
          "base_uri": "https://localhost:8080/",
          "height": 1000
        },
        "outputId": "38823223-ffef-430a-c82b-c6584c4a734a"
      },
      "source": [
        "for i in df_train_data_cat.columns:\n",
        "  df_train_data_cat.groupby(i)['Loan_Status'].value_counts().unstack().plot(kind='bar',stacked=True)"
      ],
      "execution_count": 10,
      "outputs": [
        {
          "output_type": "display_data",
          "data": {
            "image/png": "[encoded data removed]",
            "text/plain": [
              "<Figure size 432x288 with 1 Axes>"
            ]
          },
          "metadata": {
            "tags": [],
            "needs_background": "light"
          }
        },
        {
          "output_type": "display_data",
          "data": {
            "image/png": "[encoded data removed]",
            "text/plain": [
              "<Figure size 432x288 with 1 Axes>"
            ]
          },
          "metadata": {
            "tags": [],
            "needs_background": "light"
          }
        },
        {
          "output_type": "display_data",
          "data": {
            "image/png": "[encoded data removed]",
            "text/plain": [
              "<Figure size 432x288 with 1 Axes>"
            ]
          },
          "metadata": {
            "tags": [],
            "needs_background": "light"
          }
        },
        {
          "output_type": "display_data",
          "data": {
            "image/png": "[encoded data removed]",
            "text/plain": [
              "<Figure size 432x288 with 1 Axes>"
            ]
          },
          "metadata": {
            "tags": [],
            "needs_background": "light"
          }
        },
        {
          "output_type": "display_data",
          "data": {
            "image/png": "[encoded data removed]",
            "text/plain": [
              "<Figure size 432x288 with 1 Axes>"
            ]
          },
          "metadata": {
            "tags": [],
            "needs_background": "light"
          }
        },
        {
          "output_type": "display_data",
          "data": {
            "image/png": "[encoded data removed]",
            "text/plain": [
              "<Figure size 432x288 with 1 Axes>"
            ]
          },
          "metadata": {
            "tags": [],
            "needs_background": "light"
          }
        },
        {
          "output_type": "display_data",
          "data": {
            "image/png": "[encoded data removed]",
            "text/plain": [
              "<Figure size 432x288 with 1 Axes>"
            ]
          },
          "metadata": {
            "tags": [],
            "needs_background": "light"
          }
        }
      ]
    },
    {
      "cell_type": "markdown",
      "metadata": {
        "id": "KGsVQ7y6NeMh",
        "colab_type": "text"
      },
      "source": [
        "From above we can notice\n",
        "\n",
        "*   Male Applicants are more than Female Applicants\n",
        "*   Married applicants have a higher chance of getting a loan than Unmarried. This could due to the reason that Married Applicants have Dual Income's and thus it is safer to provide them a Loan \n",
        "*   As the dependency increases the probability of getting a loan decreases\n",
        "*   Applicants with 0 dependencies have requested more for a loan\n",
        "*   Probability of a Graduate getting a loan is higher than not a Graduate\n",
        "*   Applicants seeking loan are the highest from Semi-Urban Region\n",
        "\n",
        "PS- Alternatively we can also use Sweetviz library in Python for EDA"
      ]
    },
    {
      "cell_type": "code",
      "metadata": {
        "id": "kCIzAeTEYMjC",
        "colab_type": "code",
        "colab": {}
      },
      "source": [
        "y_df_train_data=df_train_data['Loan_Status'].copy()\n",
        "y_df_train_data.replace(['N','Y'],[0,1],inplace=True)\n",
        "df_train_data.drop('Loan_Status',axis=1,inplace=True)\n",
        "df_test_data.drop(['Loan_ID'],axis=1,inplace=True)"
      ],
      "execution_count": 11,
      "outputs": []
    },
    {
      "cell_type": "markdown",
      "metadata": {
        "id": "CipKIGcP-pXO",
        "colab_type": "text"
      },
      "source": [
        "Creating our basic training and testing data by dropping the target column and unique id column"
      ]
    },
    {
      "cell_type": "code",
      "metadata": {
        "id": "SK_Z6c6blITr",
        "colab_type": "code",
        "colab": {
          "base_uri": "https://localhost:8080/",
          "height": 238
        },
        "outputId": "588dd697-914f-4aa4-f890-51a650d1aba1"
      },
      "source": [
        "print('LoanAmount median is',df_train_data['LoanAmount'].median())\n",
        "print('Gender mode',df_train_data['Gender'].mode())\n",
        "print('Dependents mode',df_train_data['Dependents'].mode())\n",
        "print('Married mode',df_train_data['Married'].mode())\n",
        "print('Self_Employed mode',df_train_data['Self_Employed'].mode())\n",
        "print('Loan_Amount_Term mode',df_train_data['Loan_Amount_Term'].mode())\n",
        "print('Credit_History mode',df_train_data['Credit_History'].mode())"
      ],
      "execution_count": 12,
      "outputs": [
        {
          "output_type": "stream",
          "text": [
            "LoanAmount median is 128.0\n",
            "Gender mode 0    Male\n",
            "dtype: object\n",
            "Dependents mode 0    0\n",
            "dtype: object\n",
            "Married mode 0    Yes\n",
            "dtype: object\n",
            "Self_Employed mode 0    No\n",
            "dtype: object\n",
            "Loan_Amount_Term mode 0    360.0\n",
            "dtype: float64\n",
            "Credit_History mode 0    1.0\n",
            "dtype: float64\n"
          ],
          "name": "stdout"
        }
      ]
    },
    {
      "cell_type": "markdown",
      "metadata": {
        "id": "ue47-FWyUFav",
        "colab_type": "text"
      },
      "source": [
        "We will now Fill Missing Values. For Categorical values we have filled it using Mode of that column and for Continous we have filled it with Median"
      ]
    },
    {
      "cell_type": "code",
      "metadata": {
        "id": "JEAlFaMCYl8x",
        "colab_type": "code",
        "colab": {
          "base_uri": "https://localhost:8080/",
          "height": 425
        },
        "outputId": "831babc6-2b67-4619-951f-8c2f77262080"
      },
      "source": [
        "df_train_data['Gender']=df_train_data['Gender'].fillna('Male')\n",
        "df_train_data['Dependents']=df_train_data['Dependents'].fillna('0')\n",
        "df_train_data['Married']=df_train_data['Married'].fillna(\"Yes\")\n",
        "df_train_data['Self_Employed']=df_train_data['Self_Employed'].fillna(\"No\")\n",
        "df_train_data['Loan_Amount_Term']=df_train_data['Loan_Amount_Term'].fillna(360)\n",
        "df_train_data['Credit_History']=df_train_data['Credit_History'].fillna(1)\n",
        "df_train_data['LoanAmount']=df_train_data['LoanAmount'].fillna(df_train_data['LoanAmount'].median())\n",
        "print(df_train_data.isnull().sum())\n",
        "\n",
        "#Test Data\n",
        "df_test_data['Gender']=df_test_data['Gender'].fillna('Male')\n",
        "df_test_data['Dependents']=df_test_data['Dependents'].fillna('0')\n",
        "df_test_data['Married']=df_test_data['Married'].fillna(\"Yes\")\n",
        "df_test_data['Self_Employed']=df_test_data['Self_Employed'].fillna(\"No\")\n",
        "df_test_data['Loan_Amount_Term']=df_test_data['Loan_Amount_Term'].fillna(360)\n",
        "df_test_data['Credit_History']=df_test_data['Credit_History'].fillna(1)\n",
        "df_test_data['LoanAmount']=df_test_data['LoanAmount'].fillna(df_train_data['LoanAmount'].median())\n",
        "print(df_test_data.isnull().sum())"
      ],
      "execution_count": 13,
      "outputs": [
        {
          "output_type": "stream",
          "text": [
            "Gender               0\n",
            "Married              0\n",
            "Dependents           0\n",
            "Education            0\n",
            "Self_Employed        0\n",
            "ApplicantIncome      0\n",
            "CoapplicantIncome    0\n",
            "LoanAmount           0\n",
            "Loan_Amount_Term     0\n",
            "Credit_History       0\n",
            "Property_Area        0\n",
            "dtype: int64\n",
            "Gender               0\n",
            "Married              0\n",
            "Dependents           0\n",
            "Education            0\n",
            "Self_Employed        0\n",
            "ApplicantIncome      0\n",
            "CoapplicantIncome    0\n",
            "LoanAmount           0\n",
            "Loan_Amount_Term     0\n",
            "Credit_History       0\n",
            "Property_Area        0\n",
            "dtype: int64\n"
          ],
          "name": "stdout"
        }
      ]
    },
    {
      "cell_type": "markdown",
      "metadata": {
        "id": "rAUhtSorZv-Y",
        "colab_type": "text"
      },
      "source": [
        "#Data Preprocessing"
      ]
    },
    {
      "cell_type": "markdown",
      "metadata": {
        "id": "uzo2ySAQVfw2",
        "colab_type": "text"
      },
      "source": [
        "After filling in our missing values we now move to feature engineering"
      ]
    },
    {
      "cell_type": "code",
      "metadata": {
        "id": "lZy8IpFoIm5x",
        "colab_type": "code",
        "colab": {}
      },
      "source": [
        "df_train_data['TotalIncome']=df_train_data['ApplicantIncome']+df_train_data['CoapplicantIncome']\n",
        "df_train_data['ApplicantCoverageRatio']=df_train_data['ApplicantIncome']/df_train_data['LoanAmount']\n",
        "df_train_data['TotalCoverageRatio']=df_train_data['TotalIncome']/df_train_data['LoanAmount']\n",
        "df_train_data['LoanPerMonth']=df_train_data['LoanAmount']/df_train_data['Loan_Amount_Term']\n",
        "\n",
        "#Test Data\n",
        "df_test_data['TotalIncome']=df_test_data['ApplicantIncome']+df_test_data['CoapplicantIncome']\n",
        "df_test_data['ApplicantCoverageRatio']=df_test_data['ApplicantIncome']/df_test_data['LoanAmount']\n",
        "df_test_data['TotalCoverageRatio']=df_test_data['TotalIncome']/df_test_data['LoanAmount']\n",
        "df_test_data['LoanPerMonth']=df_test_data['LoanAmount']/df_test_data['Loan_Amount_Term']"
      ],
      "execution_count": 14,
      "outputs": []
    },
    {
      "cell_type": "code",
      "metadata": {
        "id": "J8wHBE0aWv4G",
        "colab_type": "code",
        "colab": {
          "base_uri": "https://localhost:8080/",
          "height": 396
        },
        "outputId": "87f30238-abe2-438e-b620-b960a0a24942"
      },
      "source": [
        "sns.heatmap(df_train_data.corr(),annot=True,cmap='RdYlGn',linewidths=0.2)\n",
        "plt.figure(figsize=(20,15))\n",
        "plt.show()"
      ],
      "execution_count": 15,
      "outputs": [
        {
          "output_type": "display_data",
          "data": {
            "image/png": "[encoded data removed]",
            "text/plain": [
              "<Figure size 432x288 with 2 Axes>"
            ]
          },
          "metadata": {
            "tags": [],
            "needs_background": "light"
          }
        },
        {
          "output_type": "display_data",
          "data": {
            "text/plain": [
              "<Figure size 1440x1080 with 0 Axes>"
            ]
          },
          "metadata": {
            "tags": []
          }
        }
      ]
    },
    {
      "cell_type": "markdown",
      "metadata": {
        "id": "0CqP3Pz8Vt0m",
        "colab_type": "text"
      },
      "source": [
        "We have added 4 columns which are as follows-\n",
        "\n",
        "*   TotalIncome- This signifies the Total Income of the Applicant along with the Coapplicants Income\n",
        "*   ApplicantCoverageRatio- This signifies the number of times the loan be be repaid in comparison to the Applicants Individual Income\n",
        "*   TotalCoverageRatio=This signifies the number of times the loan be be repaid in comparison to the Applicants Total Income\n",
        "*   LoanPerMonth= Here we are ammortizing the loan amount over the loan tenure\n"
      ]
    },
    {
      "cell_type": "code",
      "metadata": {
        "id": "8PP9HeYjRSd5",
        "colab_type": "code",
        "colab": {}
      },
      "source": [
        "dummies_cols=['Gender', 'Married', 'Dependents', 'Education','Self_Employed','Loan_Amount_Term', 'Credit_History','Property_Area']\n",
        "for i in dummies_cols:\n",
        "  X_Dummy=pd.get_dummies(df_train_data[i],prefix=i)#XGBoost required that all columns are unique so that is why when we do get dummies for One hot encoding then we have to use prefix in it\n",
        "  df_train_data = pd.concat([df_train_data,X_Dummy], axis=1)\n",
        "  df_train_data.drop([i],axis=1,inplace=True)#Altrenatively we could also use 'drop_first=True' in pd.get_dummies as a hyperparameter"
      ],
      "execution_count": 16,
      "outputs": []
    },
    {
      "cell_type": "markdown",
      "metadata": {
        "id": "Nf-hbuzYZ0fG",
        "colab_type": "text"
      },
      "source": [
        "Using one hot encoding on Categorical Columns"
      ]
    },
    {
      "cell_type": "code",
      "metadata": {
        "id": "kuiHyCxokR9W",
        "colab_type": "code",
        "colab": {}
      },
      "source": [
        "dummies_cols=['Gender', 'Married', 'Dependents', 'Education','Self_Employed','Loan_Amount_Term', 'Credit_History','Property_Area']\n",
        "for i in dummies_cols:\n",
        "  X_Dummy=pd.get_dummies(df_test_data[i],prefix=i)#XGBoost required that all columns are unique so that is why when we do get dummies for One hot encoding then we have to use prefix in it\n",
        "  df_test_data = pd.concat([df_test_data,X_Dummy], axis=1)\n",
        "  df_test_data.drop([i],axis=1,inplace=True)#Altrenatively we could also use 'drop_first=True' in pd.get_dummies as a hyperparameter"
      ],
      "execution_count": 17,
      "outputs": []
    },
    {
      "cell_type": "code",
      "metadata": {
        "id": "It-4uCwNj6QU",
        "colab_type": "code",
        "colab": {
          "base_uri": "https://localhost:8080/",
          "height": 255
        },
        "outputId": "30d7d056-2b97-4650-fe97-1f18ec2e13a8"
      },
      "source": [
        "df_test_data.columns"
      ],
      "execution_count": 18,
      "outputs": [
        {
          "output_type": "execute_result",
          "data": {
            "text/plain": [
              "Index(['ApplicantIncome', 'CoapplicantIncome', 'LoanAmount', 'TotalIncome',\n",
              "       'ApplicantCoverageRatio', 'TotalCoverageRatio', 'LoanPerMonth',\n",
              "       'Gender_Female', 'Gender_Male', 'Married_No', 'Married_Yes',\n",
              "       'Dependents_0', 'Dependents_1', 'Dependents_2', 'Dependents_3+',\n",
              "       'Education_Graduate', 'Education_Not Graduate', 'Self_Employed_No',\n",
              "       'Self_Employed_Yes', 'Loan_Amount_Term_6.0', 'Loan_Amount_Term_12.0',\n",
              "       'Loan_Amount_Term_36.0', 'Loan_Amount_Term_60.0',\n",
              "       'Loan_Amount_Term_84.0', 'Loan_Amount_Term_120.0',\n",
              "       'Loan_Amount_Term_180.0', 'Loan_Amount_Term_240.0',\n",
              "       'Loan_Amount_Term_300.0', 'Loan_Amount_Term_350.0',\n",
              "       'Loan_Amount_Term_360.0', 'Loan_Amount_Term_480.0',\n",
              "       'Credit_History_0.0', 'Credit_History_1.0', 'Property_Area_Rural',\n",
              "       'Property_Area_Semiurban', 'Property_Area_Urban'],\n",
              "      dtype='object')"
            ]
          },
          "metadata": {
            "tags": []
          },
          "execution_count": 18
        }
      ]
    },
    {
      "cell_type": "code",
      "metadata": {
        "id": "nz8-uX7XrXpH",
        "colab_type": "code",
        "colab": {}
      },
      "source": [
        "df_test_data.drop(['Loan_Amount_Term_6.0','Loan_Amount_Term_350.0'],axis=1,inplace=True)"
      ],
      "execution_count": 19,
      "outputs": []
    },
    {
      "cell_type": "markdown",
      "metadata": {
        "id": "eI9jxjkSaPC7",
        "colab_type": "text"
      },
      "source": [
        "This we have dropped from test as these are single entries due to which a new column was created and we could not apply models to it as the shape of the train and test data changes"
      ]
    },
    {
      "cell_type": "code",
      "metadata": {
        "id": "8-emmrdegkDb",
        "colab_type": "code",
        "colab": {
          "base_uri": "https://localhost:8080/",
          "height": 71
        },
        "outputId": "d33f8e53-21ac-4c1c-c1d3-062d736e6b52"
      },
      "source": [
        "from sklearn.preprocessing import QuantileTransformer\n",
        "scaler = QuantileTransformer()\n",
        "df_train_data[['CoapplicantIncome','LoanAmount','TotalIncome','ApplicantIncome','ApplicantCoverageRatio','TotalCoverageRatio','LoanPerMonth']] = scaler.fit_transform(df_train_data[['CoapplicantIncome','LoanAmount','TotalIncome','ApplicantIncome','ApplicantCoverageRatio','TotalCoverageRatio','LoanPerMonth']])\n",
        "\n",
        "#Test Data\n",
        "df_test_data[['CoapplicantIncome','LoanAmount','TotalIncome','ApplicantIncome','ApplicantCoverageRatio','TotalCoverageRatio','LoanPerMonth']] = scaler.transform(df_test_data[['CoapplicantIncome','LoanAmount','TotalIncome','ApplicantIncome','ApplicantCoverageRatio','TotalCoverageRatio','LoanPerMonth']])"
      ],
      "execution_count": 20,
      "outputs": [
        {
          "output_type": "stream",
          "text": [
            "/usr/local/lib/python3.6/dist-packages/sklearn/preprocessing/_data.py:2357: UserWarning: n_quantiles (1000) is greater than the total number of samples (614). n_quantiles is set to n_samples.\n",
            "  % (self.n_quantiles, n_samples))\n"
          ],
          "name": "stderr"
        }
      ]
    },
    {
      "cell_type": "markdown",
      "metadata": {
        "id": "30XYfU0ZbWcI",
        "colab_type": "text"
      },
      "source": [
        "We have used Quantile Scaler as it helps in treating outliers, Alternatively we could also use RobustScaler"
      ]
    },
    {
      "cell_type": "markdown",
      "metadata": {
        "id": "eA0CTk9JcEM-",
        "colab_type": "text"
      },
      "source": [
        "#Applying Models\n",
        "Now as we are done with the basic steps of cleaning our data , now we will apply different models to our dataset."
      ]
    },
    {
      "cell_type": "code",
      "metadata": {
        "id": "AGCzIMzMm4bl",
        "colab_type": "code",
        "colab": {}
      },
      "source": [
        "X_train, X_test, y_train, y_test= train_test_split(df_train_data,y_df_train_data,test_size=0.2, random_state=0) "
      ],
      "execution_count": 21,
      "outputs": []
    },
    {
      "cell_type": "markdown",
      "metadata": {
        "id": "aCywQa6pctSB",
        "colab_type": "text"
      },
      "source": [
        "We first use Pycaret on our original dataset to find out which models would apply best to our dataset."
      ]
    },
    {
      "cell_type": "code",
      "metadata": {
        "id": "568kgqercTrf",
        "colab_type": "code",
        "colab": {}
      },
      "source": [
        "# !pip install pycaret\n",
        "# from pycaret.utils import enable_colab\n",
        "# enable_colab()"
      ],
      "execution_count": 22,
      "outputs": []
    },
    {
      "cell_type": "code",
      "metadata": {
        "id": "OjNYXOMmdPS9",
        "colab_type": "code",
        "colab": {}
      },
      "source": [
        "# pycaret_data=pd.read_csv('train_ctrUa4K.csv')\n",
        "# from pycaret.classification import *\n",
        "# exp_clf101 = setup(data = pycaret_data, target = 'Loan_Status', session_id=123)\n",
        "# compare_models()"
      ],
      "execution_count": 23,
      "outputs": []
    },
    {
      "cell_type": "code",
      "metadata": {
        "id": "n5cKSyKLrr8l",
        "colab_type": "code",
        "colab": {
          "base_uri": "https://localhost:8080/",
          "height": 119
        },
        "outputId": "2be89531-a61a-4a50-ad9d-405288c9d0cd"
      },
      "source": [
        "#Logistic Regression-Train\n",
        "model=LogisticRegression()\n",
        "model.fit(X_train,y_train)\n",
        "y_pred=model.predict(X_test)\n",
        "score=accuracy_score(y_test,y_pred)\n",
        "print(\"Test score is \",score)\n",
        "print(\"Precision score is\",precision_score(y_test,y_pred))\n",
        "print(\"Recall score is\",recall_score(y_test,y_pred))\n",
        "print(\"Confusion Matrix is \\n\",confusion_matrix(y_test,y_pred))"
      ],
      "execution_count": 24,
      "outputs": [
        {
          "output_type": "stream",
          "text": [
            "Test score is  0.8292682926829268\n",
            "Precision score is 0.822429906542056\n",
            "Recall score is 0.9777777777777777\n",
            "Confusion Matrix is \n",
            " [[14 19]\n",
            " [ 2 88]]\n"
          ],
          "name": "stdout"
        }
      ]
    },
    {
      "cell_type": "code",
      "metadata": {
        "id": "hHb3keZIt9iv",
        "colab_type": "code",
        "colab": {
          "base_uri": "https://localhost:8080/",
          "height": 119
        },
        "outputId": "01b235b8-097b-45c7-da2c-a183763b7278"
      },
      "source": [
        "#Random Forest\n",
        "X_train, X_test, y_train, y_test= train_test_split(df_train_data,y_df_train_data,test_size=0.2, random_state=0) \n",
        "RFmodel=RandomForestClassifier(n_estimators=1000,n_jobs=100,random_state=0, min_samples_leaf=4)\n",
        "RFmodel.fit(X_train,y_train)\n",
        "y_pred=RFmodel.predict(X_test)\n",
        "score=accuracy_score(y_test,y_pred)\n",
        "print(\"Test score is \",score)\n",
        "print(\"Precision score is\",precision_score(y_test,y_pred))\n",
        "print(\"Recall score is\",recall_score(y_test,y_pred))\n",
        "print(\"Confusion Matrix is \\n\",confusion_matrix(y_test,y_pred))"
      ],
      "execution_count": 25,
      "outputs": [
        {
          "output_type": "stream",
          "text": [
            "Test score is  0.8373983739837398\n",
            "Precision score is 0.8301886792452831\n",
            "Recall score is 0.9777777777777777\n",
            "Confusion Matrix is \n",
            " [[15 18]\n",
            " [ 2 88]]\n"
          ],
          "name": "stdout"
        }
      ]
    },
    {
      "cell_type": "code",
      "metadata": {
        "id": "l8zQxrgN6ojj",
        "colab_type": "code",
        "colab": {
          "base_uri": "https://localhost:8080/",
          "height": 119
        },
        "outputId": "2bf4ce68-bd37-47ed-e8eb-6449756038a8"
      },
      "source": [
        "#Gradient Boosting\n",
        "X_train, X_test, y_train, y_test= train_test_split(df_train_data,y_df_train_data,test_size=0.2, random_state=0) \n",
        "gb_clf= GradientBoostingClassifier(random_state=0)\n",
        "gb_clf.fit(X_train, y_train)\n",
        "y_pred=gb_clf.predict(X_test)\n",
        "score=accuracy_score(y_pred,y_test)\n",
        "score=accuracy_score(y_test,y_pred)\n",
        "print(\"Test score is \",score)\n",
        "print(\"Precision score is\",precision_score(y_test,y_pred))\n",
        "print(\"Recall score is\",recall_score(y_test,y_pred))\n",
        "print(\"Confusion Matrix is \\n\",confusion_matrix(y_test,y_pred))"
      ],
      "execution_count": 26,
      "outputs": [
        {
          "output_type": "stream",
          "text": [
            "Test score is  0.8211382113821138\n",
            "Precision score is 0.8269230769230769\n",
            "Recall score is 0.9555555555555556\n",
            "Confusion Matrix is \n",
            " [[15 18]\n",
            " [ 4 86]]\n"
          ],
          "name": "stdout"
        }
      ]
    },
    {
      "cell_type": "code",
      "metadata": {
        "id": "felrhf2cBQOH",
        "colab_type": "code",
        "colab": {
          "base_uri": "https://localhost:8080/",
          "height": 221
        },
        "outputId": "8c8922b1-a131-473f-a7e2-e210096c0e35"
      },
      "source": [
        "#Decision Tree\n",
        "X_train, X_test, y_train, y_test= train_test_split(df_train_data,y_df_train_data,test_size=0.2, random_state=0) \n",
        "dt_clf=DecisionTreeClassifier(max_depth=1,random_state=0)#1)this is our weak classifier,2)Max_depth has to be one else it will become a stronger classifier which would be beneficial here but would affect our ADAboost in a negative manner \n",
        "dt_clf.fit(X_train,y_train)\n",
        "dt_score=dt_clf.score(X_test,y_test)\n",
        "score=accuracy_score(y_test,y_pred)\n",
        "print(\"Test score is \",score)\n",
        "print(\"Precision score is\",precision_score(y_test,y_pred))\n",
        "print(\"Recall score is\",recall_score(y_test,y_pred))\n",
        "print(\"Confusion Matrix is \\n\",confusion_matrix(y_test,y_pred))\n",
        "#AdaBoost\n",
        "X_train, X_test, y_train, y_test= train_test_split(df_train_data,y_df_train_data,test_size=0.2, random_state=0) \n",
        "ada_clf=AdaBoostClassifier(base_estimator=dt_clf,random_state=0)\n",
        "ada_clf.fit(X_train,y_train)\n",
        "ada_score=ada_clf.score(X_test,y_test)\n",
        "score=accuracy_score(y_test,y_pred)\n",
        "print(\"Test score is \",score)\n",
        "print(\"Precision score is\",precision_score(y_test,y_pred))\n",
        "print(\"Recall score is\",recall_score(y_test,y_pred))\n",
        "print(\"Confusion Matrix is \\n\",confusion_matrix(y_test,y_pred))"
      ],
      "execution_count": 27,
      "outputs": [
        {
          "output_type": "stream",
          "text": [
            "Test score is  0.8211382113821138\n",
            "Precision score is 0.8269230769230769\n",
            "Recall score is 0.9555555555555556\n",
            "Confusion Matrix is \n",
            " [[15 18]\n",
            " [ 4 86]]\n",
            "Test score is  0.8211382113821138\n",
            "Precision score is 0.8269230769230769\n",
            "Recall score is 0.9555555555555556\n",
            "Confusion Matrix is \n",
            " [[15 18]\n",
            " [ 4 86]]\n"
          ],
          "name": "stdout"
        }
      ]
    },
    {
      "cell_type": "code",
      "metadata": {
        "id": "S1EQXgaBPWxa",
        "colab_type": "code",
        "colab": {
          "base_uri": "https://localhost:8080/",
          "height": 119
        },
        "outputId": "1545eb0e-17cb-4173-e593-233df8b5d15e"
      },
      "source": [
        "#KNN\n",
        "X_train, X_test, y_train, y_test= train_test_split(df_train_data,y_df_train_data,test_size=0.2, random_state=0) \n",
        "knn = KNeighborsClassifier(n_neighbors=8)\n",
        "knn.fit(X_train, y_train)\n",
        "y_pred=knn.predict(X_test)\n",
        "score=accuracy_score(y_test,y_pred)\n",
        "print(\"Test score is \",score)\n",
        "print(\"Precision score is\",precision_score(y_test,y_pred))\n",
        "print(\"Recall score is\",recall_score(y_test,y_pred))\n",
        "print(\"Confusion Matrix is \\n\",confusion_matrix(y_test,y_pred))"
      ],
      "execution_count": 28,
      "outputs": [
        {
          "output_type": "stream",
          "text": [
            "Test score is  0.8048780487804879\n",
            "Precision score is 0.8173076923076923\n",
            "Recall score is 0.9444444444444444\n",
            "Confusion Matrix is \n",
            " [[14 19]\n",
            " [ 5 85]]\n"
          ],
          "name": "stdout"
        }
      ]
    },
    {
      "cell_type": "code",
      "metadata": {
        "id": "1SR2Qk2JgmrB",
        "colab_type": "code",
        "colab": {
          "base_uri": "https://localhost:8080/",
          "height": 119
        },
        "outputId": "695d00c2-61bb-46f0-9dd1-26d4f54d6ef6"
      },
      "source": [
        "#Ridge Classifier\n",
        "X_train, X_test, y_train, y_test= train_test_split(df_train_data,y_df_train_data,test_size=0.2, random_state=0) \n",
        "ridge = RidgeClassifier()\n",
        "ridge.fit(X_train, y_train)\n",
        "y_pred=ridge.predict(X_test)\n",
        "score=accuracy_score(y_test,y_pred)\n",
        "print(\"Test score is \",score)\n",
        "print(\"Precision score is\",precision_score(y_test,y_pred))\n",
        "print(\"Recall score is\",recall_score(y_test,y_pred))\n",
        "print(\"Confusion Matrix is \\n\",confusion_matrix(y_test,y_pred))"
      ],
      "execution_count": 29,
      "outputs": [
        {
          "output_type": "stream",
          "text": [
            "Test score is  0.8292682926829268\n",
            "Precision score is 0.822429906542056\n",
            "Recall score is 0.9777777777777777\n",
            "Confusion Matrix is \n",
            " [[14 19]\n",
            " [ 2 88]]\n"
          ],
          "name": "stdout"
        }
      ]
    },
    {
      "cell_type": "code",
      "metadata": {
        "id": "aOumZQqeg5Ws",
        "colab_type": "code",
        "colab": {
          "base_uri": "https://localhost:8080/",
          "height": 119
        },
        "outputId": "b496e928-21ad-4f4c-fa9e-e27f55623276"
      },
      "source": [
        "#LinearDiscriminantAnalysis\n",
        "X_train, X_test, y_train, y_test= train_test_split(df_train_data,y_df_train_data,test_size=0.2, random_state=0) \n",
        "from sklearn.discriminant_analysis import LinearDiscriminantAnalysis\n",
        "clfld = LinearDiscriminantAnalysis()\n",
        "clfld.fit(X_train, y_train)\n",
        "y_pred=clfld.predict(X_test)\n",
        "score=accuracy_score(y_test,y_pred)\n",
        "print(\"Test score is \",score)\n",
        "print(\"Precision score is\",precision_score(y_test,y_pred))\n",
        "print(\"Recall score is\",recall_score(y_test,y_pred))\n",
        "print(\"Confusion Matrix is \\n\",confusion_matrix(y_test,y_pred))"
      ],
      "execution_count": 30,
      "outputs": [
        {
          "output_type": "stream",
          "text": [
            "Test score is  0.8292682926829268\n",
            "Precision score is 0.822429906542056\n",
            "Recall score is 0.9777777777777777\n",
            "Confusion Matrix is \n",
            " [[14 19]\n",
            " [ 2 88]]\n"
          ],
          "name": "stdout"
        }
      ]
    },
    {
      "cell_type": "code",
      "metadata": {
        "id": "krltNCmeWjBY",
        "colab_type": "code",
        "colab": {
          "base_uri": "https://localhost:8080/",
          "height": 119
        },
        "outputId": "9d5fa1be-c68c-4a23-d204-578412aef33a"
      },
      "source": [
        "#SVM\n",
        "X_train, X_test, y_train, y_test= train_test_split(df_train_data,y_df_train_data,test_size=0.2, random_state=0) \n",
        "model = svm.SVC(kernel='linear', C = 1)\n",
        "svmc= model.fit(X_train, y_train)\n",
        "y_pred=svmc.predict(X_test)\n",
        "score=accuracy_score(y_test,y_pred)\n",
        "print(\"Test score is \",score)\n",
        "print(\"Precision score is\",precision_score(y_test,y_pred))\n",
        "print(\"Recall score is\",recall_score(y_test,y_pred))\n",
        "print(\"Confusion Matrix is \\n\",confusion_matrix(y_test,y_pred))"
      ],
      "execution_count": 31,
      "outputs": [
        {
          "output_type": "stream",
          "text": [
            "Test score is  0.8292682926829268\n",
            "Precision score is 0.822429906542056\n",
            "Recall score is 0.9777777777777777\n",
            "Confusion Matrix is \n",
            " [[14 19]\n",
            " [ 2 88]]\n"
          ],
          "name": "stdout"
        }
      ]
    },
    {
      "cell_type": "code",
      "metadata": {
        "id": "JQE2qBqcZAXt",
        "colab_type": "code",
        "colab": {
          "base_uri": "https://localhost:8080/",
          "height": 343
        },
        "outputId": "6f3445a1-8ebd-41a0-882e-cf0402877d6f"
      },
      "source": [
        "!pip install catboost\n",
        "from catboost import CatBoostClassifier, Pool"
      ],
      "execution_count": 32,
      "outputs": [
        {
          "output_type": "stream",
          "text": [
            "Collecting catboost\n",
            "\u001b[?25l  Downloading https://files.pythonhosted.org/packages/90/86/c3dcb600b4f9e7584ed90ea9d30a717fb5c0111574675f442c3e7bc19535/catboost-0.24.1-cp36-none-manylinux1_x86_64.whl (66.1MB)\n",
            "\u001b[K     |████████████████████████████████| 66.1MB 46kB/s \n",
            "\u001b[?25hRequirement already satisfied: matplotlib in /usr/local/lib/python3.6/dist-packages (from catboost) (3.2.2)\n",
            "Requirement already satisfied: graphviz in /usr/local/lib/python3.6/dist-packages (from catboost) (0.10.1)\n",
            "Requirement already satisfied: plotly in /usr/local/lib/python3.6/dist-packages (from catboost) (4.4.1)\n",
            "Requirement already satisfied: scipy in /usr/local/lib/python3.6/dist-packages (from catboost) (1.4.1)\n",
            "Requirement already satisfied: six in /usr/local/lib/python3.6/dist-packages (from catboost) (1.15.0)\n",
            "Requirement already satisfied: pandas>=0.24.0 in /usr/local/lib/python3.6/dist-packages (from catboost) (1.0.5)\n",
            "Requirement already satisfied: numpy>=1.16.0 in /usr/local/lib/python3.6/dist-packages (from catboost) (1.18.5)\n",
            "Requirement already satisfied: python-dateutil>=2.1 in /usr/local/lib/python3.6/dist-packages (from matplotlib->catboost) (2.8.1)\n",
            "Requirement already satisfied: pyparsing!=2.0.4,!=2.1.2,!=2.1.6,>=2.0.1 in /usr/local/lib/python3.6/dist-packages (from matplotlib->catboost) (2.4.7)\n",
            "Requirement already satisfied: kiwisolver>=1.0.1 in /usr/local/lib/python3.6/dist-packages (from matplotlib->catboost) (1.2.0)\n",
            "Requirement already satisfied: cycler>=0.10 in /usr/local/lib/python3.6/dist-packages (from matplotlib->catboost) (0.10.0)\n",
            "Requirement already satisfied: retrying>=1.3.3 in /usr/local/lib/python3.6/dist-packages (from plotly->catboost) (1.3.3)\n",
            "Requirement already satisfied: pytz>=2017.2 in /usr/local/lib/python3.6/dist-packages (from pandas>=0.24.0->catboost) (2018.9)\n",
            "Installing collected packages: catboost\n",
            "Successfully installed catboost-0.24.1\n"
          ],
          "name": "stdout"
        }
      ]
    },
    {
      "cell_type": "code",
      "metadata": {
        "id": "jA6G3FePChX6",
        "colab_type": "code",
        "colab": {
          "base_uri": "https://localhost:8080/",
          "height": 510
        },
        "outputId": "4eb00972-be59-4c8b-cbbc-d6fd8a02f3f9"
      },
      "source": [
        "#Catboost\n",
        "\n",
        "from catboost import CatBoostClassifier, Pool\n",
        "from sklearn.model_selection import RandomizedSearchCV\n",
        "from scipy.stats import uniform as sp_randFloat\n",
        "from scipy.stats import randint as sp_randInt    \n",
        "from catboost import CatBoostClassifier\n",
        "X_train, X_test, y_train, y_test= train_test_split(df_train_data,y_df_train_data,test_size=0.2, random_state=0) \n",
        "model=CatBoostClassifier()\n",
        "parameters = {'depth': sp_randInt(4, 10),'learning_rate' : sp_randFloat(),'iterations': sp_randInt(10, 100)}\n",
        "randm = RandomizedSearchCV(estimator=model, param_distributions = parameters,cv =3, n_iter =9, n_jobs=-1)\n",
        "randm.fit(X_train, y_train)\n",
        "y_pred=randm.predict(X_test)\n",
        "score=accuracy_score(y_test,y_pred)\n",
        "print(\"Test score is \",score)\n",
        "print(\"Precision score is\",precision_score(y_test,y_pred))\n",
        "print(\"Recall score is\",recall_score(y_test,y_pred))\n",
        "print(\"Confusion Matrix is \\n\",confusion_matrix(y_test,y_pred))"
      ],
      "execution_count": 33,
      "outputs": [
        {
          "output_type": "stream",
          "text": [
            "0:\tlearn: 0.6606546\ttotal: 62.1ms\tremaining: 1.36s\n",
            "1:\tlearn: 0.6296705\ttotal: 72.8ms\tremaining: 764ms\n",
            "2:\tlearn: 0.6040729\ttotal: 82.8ms\tremaining: 552ms\n",
            "3:\tlearn: 0.5795248\ttotal: 93ms\tremaining: 442ms\n",
            "4:\tlearn: 0.5576997\ttotal: 103ms\tremaining: 372ms\n",
            "5:\tlearn: 0.5410786\ttotal: 113ms\tremaining: 321ms\n",
            "6:\tlearn: 0.5248250\ttotal: 123ms\tremaining: 282ms\n",
            "7:\tlearn: 0.5073474\ttotal: 134ms\tremaining: 251ms\n",
            "8:\tlearn: 0.4950153\ttotal: 150ms\tremaining: 233ms\n",
            "9:\tlearn: 0.4864899\ttotal: 150ms\tremaining: 196ms\n",
            "10:\tlearn: 0.4716740\ttotal: 161ms\tremaining: 175ms\n",
            "11:\tlearn: 0.4610627\ttotal: 171ms\tremaining: 156ms\n",
            "12:\tlearn: 0.4509324\ttotal: 181ms\tremaining: 139ms\n",
            "13:\tlearn: 0.4418746\ttotal: 191ms\tremaining: 123ms\n",
            "14:\tlearn: 0.4308309\ttotal: 201ms\tremaining: 107ms\n",
            "15:\tlearn: 0.4224143\ttotal: 211ms\tremaining: 92.2ms\n",
            "16:\tlearn: 0.4091040\ttotal: 221ms\tremaining: 77.9ms\n",
            "17:\tlearn: 0.4014733\ttotal: 230ms\tremaining: 64ms\n",
            "18:\tlearn: 0.3926761\ttotal: 241ms\tremaining: 50.7ms\n",
            "19:\tlearn: 0.3845933\ttotal: 251ms\tremaining: 37.6ms\n",
            "20:\tlearn: 0.3770940\ttotal: 261ms\tremaining: 24.8ms\n",
            "21:\tlearn: 0.3731342\ttotal: 269ms\tremaining: 12.2ms\n",
            "22:\tlearn: 0.3683065\ttotal: 280ms\tremaining: 0us\n",
            "Test score is  0.8211382113821138\n",
            "Precision score is 0.8207547169811321\n",
            "Recall score is 0.9666666666666667\n",
            "Confusion Matrix is \n",
            " [[14 19]\n",
            " [ 3 87]]\n"
          ],
          "name": "stdout"
        }
      ]
    },
    {
      "cell_type": "code",
      "metadata": {
        "id": "TaDMpkAYYruS",
        "colab_type": "code",
        "colab": {
          "base_uri": "https://localhost:8080/",
          "height": 1000
        },
        "outputId": "dc290f50-8db8-4e1d-a269-c244d2a61e99"
      },
      "source": [
        "#Ensemble of top 3 models\n",
        "classifier3=LinearDiscriminantAnalysis()\n",
        "classifier7=RidgeClassifier(random_state=0) # to prevent overfitting of the data\n",
        "classifier8=CatBoostClassifier()\n",
        "\n",
        "classifier_list=[classifier3,classifier7,classifier8]\n",
        "\n",
        "m_classifier=LogisticRegression()\n",
        "sclf=StackingClassifier(classifiers=classifier_list,meta_classifier=m_classifier)\n",
        "X_train, X_test, y_train, y_test= train_test_split(df_train_data,y_df_train_data,test_size=0.2, random_state=0) \n",
        "# Code starts here\n",
        "\n",
        "sclf.fit(X_train,y_train)\n",
        "y_pred=sclf.predict(X_test)\n",
        "score=accuracy_score(y_test,y_pred)\n",
        "print(\"Test score is \",score)\n",
        "print(\"Precision score is\",precision_score(y_test,y_pred))\n",
        "print(\"Recall score is\",recall_score(y_test,y_pred))\n",
        "print(\"Confusion Matrix is \\n\",confusion_matrix(y_test,y_pred))"
      ],
      "execution_count": 34,
      "outputs": [
        {
          "output_type": "stream",
          "text": [
            "Learning rate set to 0.007604\n",
            "0:\tlearn: 0.6890270\ttotal: 4.58ms\tremaining: 4.57s\n",
            "1:\tlearn: 0.6852738\ttotal: 7.94ms\tremaining: 3.96s\n",
            "2:\tlearn: 0.6816989\ttotal: 11.6ms\tremaining: 3.86s\n",
            "3:\tlearn: 0.6776538\ttotal: 15.8ms\tremaining: 3.94s\n",
            "4:\tlearn: 0.6741197\ttotal: 19.4ms\tremaining: 3.87s\n",
            "5:\tlearn: 0.6702829\ttotal: 23.1ms\tremaining: 3.83s\n",
            "6:\tlearn: 0.6664798\ttotal: 26.8ms\tremaining: 3.79s\n",
            "7:\tlearn: 0.6632289\ttotal: 30.2ms\tremaining: 3.75s\n",
            "8:\tlearn: 0.6596408\ttotal: 33.7ms\tremaining: 3.71s\n",
            "9:\tlearn: 0.6564203\ttotal: 37.3ms\tremaining: 3.7s\n",
            "10:\tlearn: 0.6524970\ttotal: 40.9ms\tremaining: 3.68s\n",
            "11:\tlearn: 0.6490070\ttotal: 44.5ms\tremaining: 3.66s\n",
            "12:\tlearn: 0.6460056\ttotal: 48.1ms\tremaining: 3.65s\n",
            "13:\tlearn: 0.6426989\ttotal: 51.7ms\tremaining: 3.64s\n",
            "14:\tlearn: 0.6391673\ttotal: 55.3ms\tremaining: 3.63s\n",
            "15:\tlearn: 0.6359873\ttotal: 58.8ms\tremaining: 3.62s\n",
            "16:\tlearn: 0.6327198\ttotal: 62.3ms\tremaining: 3.6s\n",
            "17:\tlearn: 0.6300441\ttotal: 63.1ms\tremaining: 3.44s\n",
            "18:\tlearn: 0.6265993\ttotal: 66.6ms\tremaining: 3.44s\n",
            "19:\tlearn: 0.6236241\ttotal: 69ms\tremaining: 3.38s\n",
            "20:\tlearn: 0.6204024\ttotal: 72.6ms\tremaining: 3.38s\n",
            "21:\tlearn: 0.6173455\ttotal: 76.1ms\tremaining: 3.38s\n",
            "22:\tlearn: 0.6145015\ttotal: 79.6ms\tremaining: 3.38s\n",
            "23:\tlearn: 0.6117104\ttotal: 81.2ms\tremaining: 3.3s\n",
            "24:\tlearn: 0.6087707\ttotal: 84.7ms\tremaining: 3.3s\n",
            "25:\tlearn: 0.6062787\ttotal: 87.1ms\tremaining: 3.26s\n",
            "26:\tlearn: 0.6034159\ttotal: 90.7ms\tremaining: 3.27s\n",
            "27:\tlearn: 0.6006955\ttotal: 94.4ms\tremaining: 3.27s\n",
            "28:\tlearn: 0.5982586\ttotal: 96.4ms\tremaining: 3.23s\n",
            "29:\tlearn: 0.5949128\ttotal: 100ms\tremaining: 3.25s\n",
            "30:\tlearn: 0.5922303\ttotal: 105ms\tremaining: 3.29s\n",
            "31:\tlearn: 0.5899831\ttotal: 108ms\tremaining: 3.26s\n",
            "32:\tlearn: 0.5879373\ttotal: 109ms\tremaining: 3.18s\n",
            "33:\tlearn: 0.5852754\ttotal: 111ms\tremaining: 3.14s\n",
            "34:\tlearn: 0.5826405\ttotal: 113ms\tremaining: 3.11s\n",
            "35:\tlearn: 0.5803467\ttotal: 115ms\tremaining: 3.07s\n",
            "36:\tlearn: 0.5780891\ttotal: 117ms\tremaining: 3.04s\n",
            "37:\tlearn: 0.5758723\ttotal: 119ms\tremaining: 3.01s\n",
            "38:\tlearn: 0.5735153\ttotal: 121ms\tremaining: 2.98s\n",
            "39:\tlearn: 0.5710830\ttotal: 126ms\tremaining: 3.01s\n",
            "40:\tlearn: 0.5687406\ttotal: 128ms\tremaining: 2.99s\n",
            "41:\tlearn: 0.5665814\ttotal: 130ms\tremaining: 2.96s\n",
            "42:\tlearn: 0.5644146\ttotal: 132ms\tremaining: 2.94s\n",
            "43:\tlearn: 0.5626173\ttotal: 134ms\tremaining: 2.91s\n",
            "44:\tlearn: 0.5602592\ttotal: 136ms\tremaining: 2.89s\n",
            "45:\tlearn: 0.5583392\ttotal: 138ms\tremaining: 2.86s\n",
            "46:\tlearn: 0.5559779\ttotal: 140ms\tremaining: 2.84s\n",
            "47:\tlearn: 0.5541314\ttotal: 142ms\tremaining: 2.82s\n",
            "48:\tlearn: 0.5521182\ttotal: 144ms\tremaining: 2.8s\n",
            "49:\tlearn: 0.5499262\ttotal: 146ms\tremaining: 2.78s\n",
            "50:\tlearn: 0.5478714\ttotal: 148ms\tremaining: 2.76s\n",
            "51:\tlearn: 0.5459302\ttotal: 150ms\tremaining: 2.74s\n",
            "52:\tlearn: 0.5439562\ttotal: 152ms\tremaining: 2.72s\n",
            "53:\tlearn: 0.5422391\ttotal: 154ms\tremaining: 2.7s\n",
            "54:\tlearn: 0.5403105\ttotal: 156ms\tremaining: 2.69s\n",
            "55:\tlearn: 0.5381351\ttotal: 158ms\tremaining: 2.67s\n",
            "56:\tlearn: 0.5368029\ttotal: 159ms\tremaining: 2.63s\n",
            "57:\tlearn: 0.5351299\ttotal: 161ms\tremaining: 2.62s\n",
            "58:\tlearn: 0.5336646\ttotal: 163ms\tremaining: 2.59s\n",
            "59:\tlearn: 0.5320621\ttotal: 165ms\tremaining: 2.58s\n",
            "60:\tlearn: 0.5305003\ttotal: 167ms\tremaining: 2.56s\n",
            "61:\tlearn: 0.5286766\ttotal: 169ms\tremaining: 2.55s\n",
            "62:\tlearn: 0.5271123\ttotal: 171ms\tremaining: 2.54s\n",
            "63:\tlearn: 0.5250811\ttotal: 173ms\tremaining: 2.53s\n",
            "64:\tlearn: 0.5233428\ttotal: 175ms\tremaining: 2.52s\n",
            "65:\tlearn: 0.5221372\ttotal: 177ms\tremaining: 2.5s\n",
            "66:\tlearn: 0.5207024\ttotal: 179ms\tremaining: 2.49s\n",
            "67:\tlearn: 0.5190179\ttotal: 181ms\tremaining: 2.48s\n",
            "68:\tlearn: 0.5170074\ttotal: 183ms\tremaining: 2.47s\n",
            "69:\tlearn: 0.5152441\ttotal: 185ms\tremaining: 2.46s\n",
            "70:\tlearn: 0.5134016\ttotal: 187ms\tremaining: 2.45s\n",
            "71:\tlearn: 0.5119245\ttotal: 189ms\tremaining: 2.44s\n",
            "72:\tlearn: 0.5105238\ttotal: 193ms\tremaining: 2.46s\n",
            "73:\tlearn: 0.5088880\ttotal: 195ms\tremaining: 2.45s\n",
            "74:\tlearn: 0.5076935\ttotal: 198ms\tremaining: 2.44s\n",
            "75:\tlearn: 0.5062426\ttotal: 200ms\tremaining: 2.43s\n",
            "76:\tlearn: 0.5053093\ttotal: 200ms\tremaining: 2.4s\n",
            "77:\tlearn: 0.5040414\ttotal: 202ms\tremaining: 2.39s\n",
            "78:\tlearn: 0.5023964\ttotal: 204ms\tremaining: 2.38s\n",
            "79:\tlearn: 0.5009806\ttotal: 206ms\tremaining: 2.37s\n",
            "80:\tlearn: 0.4999972\ttotal: 208ms\tremaining: 2.36s\n",
            "81:\tlearn: 0.4983787\ttotal: 210ms\tremaining: 2.35s\n",
            "82:\tlearn: 0.4972019\ttotal: 212ms\tremaining: 2.34s\n",
            "83:\tlearn: 0.4963034\ttotal: 213ms\tremaining: 2.32s\n",
            "84:\tlearn: 0.4946204\ttotal: 215ms\tremaining: 2.31s\n",
            "85:\tlearn: 0.4935105\ttotal: 217ms\tremaining: 2.3s\n",
            "86:\tlearn: 0.4924298\ttotal: 219ms\tremaining: 2.3s\n",
            "87:\tlearn: 0.4913493\ttotal: 221ms\tremaining: 2.29s\n",
            "88:\tlearn: 0.4900728\ttotal: 223ms\tremaining: 2.28s\n",
            "89:\tlearn: 0.4887346\ttotal: 225ms\tremaining: 2.27s\n",
            "90:\tlearn: 0.4876678\ttotal: 227ms\tremaining: 2.27s\n",
            "91:\tlearn: 0.4865459\ttotal: 229ms\tremaining: 2.26s\n",
            "92:\tlearn: 0.4852535\ttotal: 231ms\tremaining: 2.26s\n",
            "93:\tlearn: 0.4842690\ttotal: 233ms\tremaining: 2.25s\n",
            "94:\tlearn: 0.4831265\ttotal: 236ms\tremaining: 2.24s\n",
            "95:\tlearn: 0.4820167\ttotal: 238ms\tremaining: 2.24s\n",
            "96:\tlearn: 0.4808045\ttotal: 240ms\tremaining: 2.23s\n",
            "97:\tlearn: 0.4795469\ttotal: 242ms\tremaining: 2.23s\n",
            "98:\tlearn: 0.4785582\ttotal: 244ms\tremaining: 2.22s\n",
            "99:\tlearn: 0.4771337\ttotal: 246ms\tremaining: 2.21s\n",
            "100:\tlearn: 0.4762966\ttotal: 248ms\tremaining: 2.21s\n",
            "101:\tlearn: 0.4752848\ttotal: 250ms\tremaining: 2.2s\n",
            "102:\tlearn: 0.4741752\ttotal: 252ms\tremaining: 2.19s\n",
            "103:\tlearn: 0.4731537\ttotal: 254ms\tremaining: 2.19s\n",
            "104:\tlearn: 0.4718826\ttotal: 256ms\tremaining: 2.19s\n",
            "105:\tlearn: 0.4708363\ttotal: 258ms\tremaining: 2.18s\n",
            "106:\tlearn: 0.4698270\ttotal: 261ms\tremaining: 2.17s\n",
            "107:\tlearn: 0.4686942\ttotal: 263ms\tremaining: 2.17s\n",
            "108:\tlearn: 0.4675623\ttotal: 265ms\tremaining: 2.16s\n",
            "109:\tlearn: 0.4664554\ttotal: 267ms\tremaining: 2.16s\n",
            "110:\tlearn: 0.4657199\ttotal: 268ms\tremaining: 2.15s\n",
            "111:\tlearn: 0.4649028\ttotal: 270ms\tremaining: 2.14s\n",
            "112:\tlearn: 0.4640225\ttotal: 272ms\tremaining: 2.14s\n",
            "113:\tlearn: 0.4632181\ttotal: 274ms\tremaining: 2.13s\n",
            "114:\tlearn: 0.4622996\ttotal: 276ms\tremaining: 2.13s\n",
            "115:\tlearn: 0.4613005\ttotal: 279ms\tremaining: 2.12s\n",
            "116:\tlearn: 0.4605593\ttotal: 281ms\tremaining: 2.12s\n",
            "117:\tlearn: 0.4595872\ttotal: 283ms\tremaining: 2.11s\n",
            "118:\tlearn: 0.4586305\ttotal: 285ms\tremaining: 2.11s\n",
            "119:\tlearn: 0.4581070\ttotal: 287ms\tremaining: 2.1s\n",
            "120:\tlearn: 0.4572909\ttotal: 289ms\tremaining: 2.1s\n",
            "121:\tlearn: 0.4565013\ttotal: 291ms\tremaining: 2.09s\n",
            "122:\tlearn: 0.4554510\ttotal: 293ms\tremaining: 2.09s\n",
            "123:\tlearn: 0.4544851\ttotal: 295ms\tremaining: 2.08s\n",
            "124:\tlearn: 0.4536859\ttotal: 297ms\tremaining: 2.08s\n",
            "125:\tlearn: 0.4530245\ttotal: 299ms\tremaining: 2.08s\n",
            "126:\tlearn: 0.4524962\ttotal: 301ms\tremaining: 2.07s\n",
            "127:\tlearn: 0.4517790\ttotal: 303ms\tremaining: 2.07s\n",
            "128:\tlearn: 0.4511255\ttotal: 305ms\tremaining: 2.06s\n",
            "129:\tlearn: 0.4503937\ttotal: 307ms\tremaining: 2.05s\n",
            "130:\tlearn: 0.4494408\ttotal: 309ms\tremaining: 2.05s\n",
            "131:\tlearn: 0.4490831\ttotal: 310ms\tremaining: 2.04s\n",
            "132:\tlearn: 0.4483170\ttotal: 312ms\tremaining: 2.03s\n",
            "133:\tlearn: 0.4475538\ttotal: 314ms\tremaining: 2.03s\n",
            "134:\tlearn: 0.4469250\ttotal: 316ms\tremaining: 2.02s\n",
            "135:\tlearn: 0.4462005\ttotal: 318ms\tremaining: 2.02s\n",
            "136:\tlearn: 0.4452349\ttotal: 322ms\tremaining: 2.03s\n",
            "137:\tlearn: 0.4449900\ttotal: 323ms\tremaining: 2.02s\n",
            "138:\tlearn: 0.4443452\ttotal: 324ms\tremaining: 2.01s\n",
            "139:\tlearn: 0.4438645\ttotal: 326ms\tremaining: 2s\n",
            "140:\tlearn: 0.4429503\ttotal: 328ms\tremaining: 2s\n",
            "141:\tlearn: 0.4426440\ttotal: 329ms\tremaining: 1.99s\n",
            "142:\tlearn: 0.4418917\ttotal: 331ms\tremaining: 1.98s\n",
            "143:\tlearn: 0.4411796\ttotal: 333ms\tremaining: 1.98s\n",
            "144:\tlearn: 0.4404901\ttotal: 335ms\tremaining: 1.98s\n",
            "145:\tlearn: 0.4397634\ttotal: 337ms\tremaining: 1.97s\n",
            "146:\tlearn: 0.4392368\ttotal: 339ms\tremaining: 1.97s\n",
            "147:\tlearn: 0.4386456\ttotal: 341ms\tremaining: 1.96s\n",
            "148:\tlearn: 0.4380826\ttotal: 343ms\tremaining: 1.96s\n",
            "149:\tlearn: 0.4373162\ttotal: 345ms\tremaining: 1.96s\n",
            "150:\tlearn: 0.4365637\ttotal: 349ms\tremaining: 1.96s\n",
            "151:\tlearn: 0.4359058\ttotal: 351ms\tremaining: 1.96s\n",
            "152:\tlearn: 0.4353472\ttotal: 353ms\tremaining: 1.96s\n",
            "153:\tlearn: 0.4345806\ttotal: 355ms\tremaining: 1.95s\n",
            "154:\tlearn: 0.4340633\ttotal: 358ms\tremaining: 1.95s\n",
            "155:\tlearn: 0.4333388\ttotal: 360ms\tremaining: 1.95s\n",
            "156:\tlearn: 0.4327790\ttotal: 362ms\tremaining: 1.94s\n",
            "157:\tlearn: 0.4321665\ttotal: 364ms\tremaining: 1.94s\n",
            "158:\tlearn: 0.4315785\ttotal: 366ms\tremaining: 1.93s\n",
            "159:\tlearn: 0.4310061\ttotal: 368ms\tremaining: 1.93s\n",
            "160:\tlearn: 0.4303759\ttotal: 370ms\tremaining: 1.93s\n",
            "161:\tlearn: 0.4298214\ttotal: 372ms\tremaining: 1.92s\n",
            "162:\tlearn: 0.4292363\ttotal: 374ms\tremaining: 1.92s\n",
            "163:\tlearn: 0.4287083\ttotal: 376ms\tremaining: 1.92s\n",
            "164:\tlearn: 0.4279635\ttotal: 378ms\tremaining: 1.91s\n",
            "165:\tlearn: 0.4274773\ttotal: 381ms\tremaining: 1.91s\n",
            "166:\tlearn: 0.4268377\ttotal: 386ms\tremaining: 1.93s\n",
            "167:\tlearn: 0.4264573\ttotal: 389ms\tremaining: 1.92s\n",
            "168:\tlearn: 0.4258079\ttotal: 391ms\tremaining: 1.92s\n",
            "169:\tlearn: 0.4253971\ttotal: 393ms\tremaining: 1.92s\n",
            "170:\tlearn: 0.4248682\ttotal: 395ms\tremaining: 1.91s\n",
            "171:\tlearn: 0.4244342\ttotal: 397ms\tremaining: 1.91s\n",
            "172:\tlearn: 0.4239444\ttotal: 399ms\tremaining: 1.91s\n",
            "173:\tlearn: 0.4231922\ttotal: 401ms\tremaining: 1.9s\n",
            "174:\tlearn: 0.4223947\ttotal: 403ms\tremaining: 1.9s\n",
            "175:\tlearn: 0.4217653\ttotal: 405ms\tremaining: 1.9s\n",
            "176:\tlearn: 0.4209955\ttotal: 408ms\tremaining: 1.89s\n",
            "177:\tlearn: 0.4204293\ttotal: 410ms\tremaining: 1.89s\n",
            "178:\tlearn: 0.4199637\ttotal: 412ms\tremaining: 1.89s\n",
            "179:\tlearn: 0.4196450\ttotal: 414ms\tremaining: 1.88s\n",
            "180:\tlearn: 0.4192008\ttotal: 416ms\tremaining: 1.88s\n",
            "181:\tlearn: 0.4187576\ttotal: 418ms\tremaining: 1.88s\n",
            "182:\tlearn: 0.4182619\ttotal: 420ms\tremaining: 1.87s\n",
            "183:\tlearn: 0.4177607\ttotal: 422ms\tremaining: 1.87s\n",
            "184:\tlearn: 0.4171423\ttotal: 424ms\tremaining: 1.87s\n",
            "185:\tlearn: 0.4165571\ttotal: 426ms\tremaining: 1.86s\n",
            "186:\tlearn: 0.4159827\ttotal: 428ms\tremaining: 1.86s\n",
            "187:\tlearn: 0.4156246\ttotal: 430ms\tremaining: 1.86s\n",
            "188:\tlearn: 0.4151613\ttotal: 432ms\tremaining: 1.85s\n",
            "189:\tlearn: 0.4146324\ttotal: 434ms\tremaining: 1.85s\n",
            "190:\tlearn: 0.4139980\ttotal: 436ms\tremaining: 1.85s\n",
            "191:\tlearn: 0.4134362\ttotal: 438ms\tremaining: 1.84s\n",
            "192:\tlearn: 0.4129178\ttotal: 440ms\tremaining: 1.84s\n",
            "193:\tlearn: 0.4123000\ttotal: 442ms\tremaining: 1.84s\n",
            "194:\tlearn: 0.4117903\ttotal: 444ms\tremaining: 1.83s\n",
            "195:\tlearn: 0.4111096\ttotal: 446ms\tremaining: 1.83s\n",
            "196:\tlearn: 0.4107327\ttotal: 449ms\tremaining: 1.83s\n",
            "197:\tlearn: 0.4100784\ttotal: 451ms\tremaining: 1.82s\n",
            "198:\tlearn: 0.4096903\ttotal: 453ms\tremaining: 1.82s\n",
            "199:\tlearn: 0.4090447\ttotal: 455ms\tremaining: 1.82s\n",
            "200:\tlearn: 0.4084315\ttotal: 457ms\tremaining: 1.81s\n",
            "201:\tlearn: 0.4078577\ttotal: 459ms\tremaining: 1.81s\n",
            "202:\tlearn: 0.4075177\ttotal: 461ms\tremaining: 1.81s\n",
            "203:\tlearn: 0.4069965\ttotal: 463ms\tremaining: 1.81s\n",
            "204:\tlearn: 0.4064863\ttotal: 465ms\tremaining: 1.8s\n",
            "205:\tlearn: 0.4058902\ttotal: 467ms\tremaining: 1.8s\n",
            "206:\tlearn: 0.4055341\ttotal: 469ms\tremaining: 1.8s\n",
            "207:\tlearn: 0.4051944\ttotal: 471ms\tremaining: 1.79s\n",
            "208:\tlearn: 0.4048925\ttotal: 473ms\tremaining: 1.79s\n",
            "209:\tlearn: 0.4042944\ttotal: 475ms\tremaining: 1.79s\n",
            "210:\tlearn: 0.4039538\ttotal: 477ms\tremaining: 1.78s\n",
            "211:\tlearn: 0.4035923\ttotal: 479ms\tremaining: 1.78s\n",
            "212:\tlearn: 0.4030482\ttotal: 481ms\tremaining: 1.78s\n",
            "213:\tlearn: 0.4025966\ttotal: 484ms\tremaining: 1.78s\n",
            "214:\tlearn: 0.4020570\ttotal: 486ms\tremaining: 1.77s\n",
            "215:\tlearn: 0.4015406\ttotal: 488ms\tremaining: 1.77s\n",
            "216:\tlearn: 0.4011031\ttotal: 490ms\tremaining: 1.77s\n",
            "217:\tlearn: 0.4004740\ttotal: 492ms\tremaining: 1.76s\n",
            "218:\tlearn: 0.4001144\ttotal: 494ms\tremaining: 1.76s\n",
            "219:\tlearn: 0.3994255\ttotal: 496ms\tremaining: 1.76s\n",
            "220:\tlearn: 0.3989391\ttotal: 498ms\tremaining: 1.75s\n",
            "221:\tlearn: 0.3985761\ttotal: 500ms\tremaining: 1.75s\n",
            "222:\tlearn: 0.3981401\ttotal: 502ms\tremaining: 1.75s\n",
            "223:\tlearn: 0.3974722\ttotal: 504ms\tremaining: 1.75s\n",
            "224:\tlearn: 0.3971024\ttotal: 506ms\tremaining: 1.74s\n",
            "225:\tlearn: 0.3966812\ttotal: 508ms\tremaining: 1.74s\n",
            "226:\tlearn: 0.3963812\ttotal: 511ms\tremaining: 1.74s\n",
            "227:\tlearn: 0.3959230\ttotal: 515ms\tremaining: 1.74s\n",
            "228:\tlearn: 0.3955378\ttotal: 517ms\tremaining: 1.74s\n",
            "229:\tlearn: 0.3949893\ttotal: 519ms\tremaining: 1.74s\n",
            "230:\tlearn: 0.3945724\ttotal: 521ms\tremaining: 1.74s\n",
            "231:\tlearn: 0.3941595\ttotal: 524ms\tremaining: 1.74s\n",
            "232:\tlearn: 0.3937801\ttotal: 527ms\tremaining: 1.73s\n",
            "233:\tlearn: 0.3934042\ttotal: 529ms\tremaining: 1.73s\n",
            "234:\tlearn: 0.3929301\ttotal: 531ms\tremaining: 1.73s\n",
            "235:\tlearn: 0.3925772\ttotal: 533ms\tremaining: 1.72s\n",
            "236:\tlearn: 0.3922869\ttotal: 535ms\tremaining: 1.72s\n",
            "237:\tlearn: 0.3919287\ttotal: 537ms\tremaining: 1.72s\n",
            "238:\tlearn: 0.3914801\ttotal: 539ms\tremaining: 1.72s\n",
            "239:\tlearn: 0.3910744\ttotal: 541ms\tremaining: 1.71s\n",
            "240:\tlearn: 0.3907160\ttotal: 543ms\tremaining: 1.71s\n",
            "241:\tlearn: 0.3903235\ttotal: 545ms\tremaining: 1.71s\n",
            "242:\tlearn: 0.3899947\ttotal: 547ms\tremaining: 1.7s\n",
            "243:\tlearn: 0.3895614\ttotal: 549ms\tremaining: 1.7s\n",
            "244:\tlearn: 0.3891950\ttotal: 551ms\tremaining: 1.7s\n",
            "245:\tlearn: 0.3889439\ttotal: 553ms\tremaining: 1.7s\n",
            "246:\tlearn: 0.3885988\ttotal: 555ms\tremaining: 1.69s\n",
            "247:\tlearn: 0.3882136\ttotal: 557ms\tremaining: 1.69s\n",
            "248:\tlearn: 0.3878303\ttotal: 560ms\tremaining: 1.69s\n",
            "249:\tlearn: 0.3874698\ttotal: 562ms\tremaining: 1.69s\n",
            "250:\tlearn: 0.3867961\ttotal: 564ms\tremaining: 1.68s\n",
            "251:\tlearn: 0.3864035\ttotal: 566ms\tremaining: 1.68s\n",
            "252:\tlearn: 0.3858526\ttotal: 568ms\tremaining: 1.68s\n",
            "253:\tlearn: 0.3854865\ttotal: 570ms\tremaining: 1.67s\n",
            "254:\tlearn: 0.3850766\ttotal: 572ms\tremaining: 1.67s\n",
            "255:\tlearn: 0.3848033\ttotal: 574ms\tremaining: 1.67s\n",
            "256:\tlearn: 0.3842511\ttotal: 576ms\tremaining: 1.67s\n",
            "257:\tlearn: 0.3837120\ttotal: 578ms\tremaining: 1.66s\n",
            "258:\tlearn: 0.3834573\ttotal: 582ms\tremaining: 1.67s\n",
            "259:\tlearn: 0.3830305\ttotal: 585ms\tremaining: 1.66s\n",
            "260:\tlearn: 0.3826252\ttotal: 587ms\tremaining: 1.66s\n",
            "261:\tlearn: 0.3822356\ttotal: 589ms\tremaining: 1.66s\n",
            "262:\tlearn: 0.3819714\ttotal: 591ms\tremaining: 1.66s\n",
            "263:\tlearn: 0.3816811\ttotal: 593ms\tremaining: 1.65s\n",
            "264:\tlearn: 0.3812636\ttotal: 595ms\tremaining: 1.65s\n",
            "265:\tlearn: 0.3807539\ttotal: 597ms\tremaining: 1.65s\n",
            "266:\tlearn: 0.3805144\ttotal: 599ms\tremaining: 1.64s\n",
            "267:\tlearn: 0.3800986\ttotal: 601ms\tremaining: 1.64s\n",
            "268:\tlearn: 0.3798100\ttotal: 603ms\tremaining: 1.64s\n",
            "269:\tlearn: 0.3792514\ttotal: 605ms\tremaining: 1.64s\n",
            "270:\tlearn: 0.3788737\ttotal: 607ms\tremaining: 1.63s\n",
            "271:\tlearn: 0.3784685\ttotal: 609ms\tremaining: 1.63s\n",
            "272:\tlearn: 0.3779334\ttotal: 611ms\tremaining: 1.63s\n",
            "273:\tlearn: 0.3775637\ttotal: 613ms\tremaining: 1.63s\n",
            "274:\tlearn: 0.3772130\ttotal: 616ms\tremaining: 1.62s\n",
            "275:\tlearn: 0.3768163\ttotal: 618ms\tremaining: 1.62s\n",
            "276:\tlearn: 0.3765059\ttotal: 620ms\tremaining: 1.62s\n",
            "277:\tlearn: 0.3760615\ttotal: 622ms\tremaining: 1.61s\n",
            "278:\tlearn: 0.3757191\ttotal: 624ms\tremaining: 1.61s\n",
            "279:\tlearn: 0.3755223\ttotal: 625ms\tremaining: 1.61s\n",
            "280:\tlearn: 0.3749619\ttotal: 627ms\tremaining: 1.6s\n",
            "281:\tlearn: 0.3747072\ttotal: 629ms\tremaining: 1.6s\n",
            "282:\tlearn: 0.3742925\ttotal: 631ms\tremaining: 1.6s\n",
            "283:\tlearn: 0.3739805\ttotal: 633ms\tremaining: 1.6s\n",
            "284:\tlearn: 0.3737158\ttotal: 635ms\tremaining: 1.59s\n",
            "285:\tlearn: 0.3733707\ttotal: 638ms\tremaining: 1.59s\n",
            "286:\tlearn: 0.3731130\ttotal: 640ms\tremaining: 1.59s\n",
            "287:\tlearn: 0.3727025\ttotal: 643ms\tremaining: 1.59s\n",
            "288:\tlearn: 0.3723989\ttotal: 645ms\tremaining: 1.58s\n",
            "289:\tlearn: 0.3720700\ttotal: 647ms\tremaining: 1.58s\n",
            "290:\tlearn: 0.3718022\ttotal: 649ms\tremaining: 1.58s\n",
            "291:\tlearn: 0.3714673\ttotal: 651ms\tremaining: 1.58s\n",
            "292:\tlearn: 0.3710792\ttotal: 653ms\tremaining: 1.57s\n",
            "293:\tlearn: 0.3707953\ttotal: 655ms\tremaining: 1.57s\n",
            "294:\tlearn: 0.3706188\ttotal: 657ms\tremaining: 1.57s\n",
            "295:\tlearn: 0.3702769\ttotal: 659ms\tremaining: 1.57s\n",
            "296:\tlearn: 0.3699926\ttotal: 661ms\tremaining: 1.56s\n",
            "297:\tlearn: 0.3695041\ttotal: 663ms\tremaining: 1.56s\n",
            "298:\tlearn: 0.3691178\ttotal: 665ms\tremaining: 1.56s\n",
            "299:\tlearn: 0.3688613\ttotal: 667ms\tremaining: 1.56s\n",
            "300:\tlearn: 0.3685147\ttotal: 669ms\tremaining: 1.55s\n",
            "301:\tlearn: 0.3680952\ttotal: 671ms\tremaining: 1.55s\n",
            "302:\tlearn: 0.3677801\ttotal: 673ms\tremaining: 1.55s\n",
            "303:\tlearn: 0.3675678\ttotal: 675ms\tremaining: 1.54s\n",
            "304:\tlearn: 0.3672411\ttotal: 677ms\tremaining: 1.54s\n",
            "305:\tlearn: 0.3667754\ttotal: 679ms\tremaining: 1.54s\n",
            "306:\tlearn: 0.3663788\ttotal: 681ms\tremaining: 1.54s\n",
            "307:\tlearn: 0.3657518\ttotal: 683ms\tremaining: 1.53s\n",
            "308:\tlearn: 0.3655125\ttotal: 685ms\tremaining: 1.53s\n",
            "309:\tlearn: 0.3651657\ttotal: 687ms\tremaining: 1.53s\n",
            "310:\tlearn: 0.3647074\ttotal: 689ms\tremaining: 1.53s\n",
            "311:\tlearn: 0.3646472\ttotal: 690ms\tremaining: 1.52s\n",
            "312:\tlearn: 0.3643316\ttotal: 692ms\tremaining: 1.52s\n",
            "313:\tlearn: 0.3640925\ttotal: 694ms\tremaining: 1.52s\n",
            "314:\tlearn: 0.3638784\ttotal: 696ms\tremaining: 1.51s\n",
            "315:\tlearn: 0.3633053\ttotal: 698ms\tremaining: 1.51s\n",
            "316:\tlearn: 0.3629662\ttotal: 700ms\tremaining: 1.51s\n",
            "317:\tlearn: 0.3627049\ttotal: 702ms\tremaining: 1.51s\n",
            "318:\tlearn: 0.3620686\ttotal: 704ms\tremaining: 1.5s\n",
            "319:\tlearn: 0.3617060\ttotal: 706ms\tremaining: 1.5s\n",
            "320:\tlearn: 0.3614181\ttotal: 711ms\tremaining: 1.5s\n",
            "321:\tlearn: 0.3610674\ttotal: 713ms\tremaining: 1.5s\n",
            "322:\tlearn: 0.3609347\ttotal: 716ms\tremaining: 1.5s\n",
            "323:\tlearn: 0.3606256\ttotal: 718ms\tremaining: 1.5s\n",
            "324:\tlearn: 0.3604057\ttotal: 720ms\tremaining: 1.5s\n",
            "325:\tlearn: 0.3602042\ttotal: 723ms\tremaining: 1.49s\n",
            "326:\tlearn: 0.3600783\ttotal: 725ms\tremaining: 1.49s\n",
            "327:\tlearn: 0.3598660\ttotal: 727ms\tremaining: 1.49s\n",
            "328:\tlearn: 0.3595478\ttotal: 729ms\tremaining: 1.49s\n",
            "329:\tlearn: 0.3591050\ttotal: 731ms\tremaining: 1.48s\n",
            "330:\tlearn: 0.3588549\ttotal: 733ms\tremaining: 1.48s\n",
            "331:\tlearn: 0.3585656\ttotal: 735ms\tremaining: 1.48s\n",
            "332:\tlearn: 0.3582236\ttotal: 737ms\tremaining: 1.48s\n",
            "333:\tlearn: 0.3579299\ttotal: 739ms\tremaining: 1.47s\n",
            "334:\tlearn: 0.3574986\ttotal: 741ms\tremaining: 1.47s\n",
            "335:\tlearn: 0.3573245\ttotal: 743ms\tremaining: 1.47s\n",
            "336:\tlearn: 0.3571136\ttotal: 745ms\tremaining: 1.47s\n",
            "337:\tlearn: 0.3567599\ttotal: 747ms\tremaining: 1.46s\n",
            "338:\tlearn: 0.3562487\ttotal: 750ms\tremaining: 1.46s\n",
            "339:\tlearn: 0.3558904\ttotal: 752ms\tremaining: 1.46s\n",
            "340:\tlearn: 0.3555560\ttotal: 754ms\tremaining: 1.46s\n",
            "341:\tlearn: 0.3551759\ttotal: 756ms\tremaining: 1.45s\n",
            "342:\tlearn: 0.3549849\ttotal: 758ms\tremaining: 1.45s\n",
            "343:\tlearn: 0.3548088\ttotal: 760ms\tremaining: 1.45s\n",
            "344:\tlearn: 0.3545711\ttotal: 762ms\tremaining: 1.45s\n",
            "345:\tlearn: 0.3544120\ttotal: 764ms\tremaining: 1.44s\n",
            "346:\tlearn: 0.3540062\ttotal: 766ms\tremaining: 1.44s\n",
            "347:\tlearn: 0.3539030\ttotal: 769ms\tremaining: 1.44s\n",
            "348:\tlearn: 0.3536130\ttotal: 772ms\tremaining: 1.44s\n",
            "349:\tlearn: 0.3532377\ttotal: 779ms\tremaining: 1.45s\n",
            "350:\tlearn: 0.3528460\ttotal: 782ms\tremaining: 1.44s\n",
            "351:\tlearn: 0.3525810\ttotal: 785ms\tremaining: 1.45s\n",
            "352:\tlearn: 0.3523723\ttotal: 788ms\tremaining: 1.44s\n",
            "353:\tlearn: 0.3519656\ttotal: 790ms\tremaining: 1.44s\n",
            "354:\tlearn: 0.3516265\ttotal: 792ms\tremaining: 1.44s\n",
            "355:\tlearn: 0.3509845\ttotal: 794ms\tremaining: 1.44s\n",
            "356:\tlearn: 0.3506098\ttotal: 796ms\tremaining: 1.43s\n",
            "357:\tlearn: 0.3502092\ttotal: 798ms\tremaining: 1.43s\n",
            "358:\tlearn: 0.3498565\ttotal: 800ms\tremaining: 1.43s\n",
            "359:\tlearn: 0.3495812\ttotal: 802ms\tremaining: 1.43s\n",
            "360:\tlearn: 0.3493346\ttotal: 804ms\tremaining: 1.42s\n",
            "361:\tlearn: 0.3490341\ttotal: 806ms\tremaining: 1.42s\n",
            "362:\tlearn: 0.3487514\ttotal: 808ms\tremaining: 1.42s\n",
            "363:\tlearn: 0.3480954\ttotal: 810ms\tremaining: 1.42s\n",
            "364:\tlearn: 0.3477353\ttotal: 812ms\tremaining: 1.41s\n",
            "365:\tlearn: 0.3475819\ttotal: 814ms\tremaining: 1.41s\n",
            "366:\tlearn: 0.3472160\ttotal: 816ms\tremaining: 1.41s\n",
            "367:\tlearn: 0.3468290\ttotal: 819ms\tremaining: 1.41s\n",
            "368:\tlearn: 0.3465497\ttotal: 821ms\tremaining: 1.4s\n",
            "369:\tlearn: 0.3462729\ttotal: 823ms\tremaining: 1.4s\n",
            "370:\tlearn: 0.3459789\ttotal: 825ms\tremaining: 1.4s\n",
            "371:\tlearn: 0.3456408\ttotal: 827ms\tremaining: 1.4s\n",
            "372:\tlearn: 0.3453089\ttotal: 829ms\tremaining: 1.39s\n",
            "373:\tlearn: 0.3450597\ttotal: 831ms\tremaining: 1.39s\n",
            "374:\tlearn: 0.3448154\ttotal: 833ms\tremaining: 1.39s\n",
            "375:\tlearn: 0.3444335\ttotal: 836ms\tremaining: 1.39s\n",
            "376:\tlearn: 0.3439356\ttotal: 838ms\tremaining: 1.38s\n",
            "377:\tlearn: 0.3435372\ttotal: 844ms\tremaining: 1.39s\n",
            "378:\tlearn: 0.3433215\ttotal: 846ms\tremaining: 1.39s\n",
            "379:\tlearn: 0.3431679\ttotal: 848ms\tremaining: 1.38s\n",
            "380:\tlearn: 0.3427712\ttotal: 850ms\tremaining: 1.38s\n",
            "381:\tlearn: 0.3425407\ttotal: 852ms\tremaining: 1.38s\n",
            "382:\tlearn: 0.3421788\ttotal: 854ms\tremaining: 1.38s\n",
            "383:\tlearn: 0.3417723\ttotal: 857ms\tremaining: 1.37s\n",
            "384:\tlearn: 0.3415085\ttotal: 859ms\tremaining: 1.37s\n",
            "385:\tlearn: 0.3412412\ttotal: 861ms\tremaining: 1.37s\n",
            "386:\tlearn: 0.3410188\ttotal: 864ms\tremaining: 1.37s\n",
            "387:\tlearn: 0.3408219\ttotal: 867ms\tremaining: 1.37s\n",
            "388:\tlearn: 0.3405421\ttotal: 869ms\tremaining: 1.36s\n",
            "389:\tlearn: 0.3402833\ttotal: 871ms\tremaining: 1.36s\n",
            "390:\tlearn: 0.3398800\ttotal: 873ms\tremaining: 1.36s\n",
            "391:\tlearn: 0.3397091\ttotal: 876ms\tremaining: 1.36s\n",
            "392:\tlearn: 0.3393728\ttotal: 878ms\tremaining: 1.35s\n",
            "393:\tlearn: 0.3390797\ttotal: 880ms\tremaining: 1.35s\n",
            "394:\tlearn: 0.3387797\ttotal: 882ms\tremaining: 1.35s\n",
            "395:\tlearn: 0.3385196\ttotal: 885ms\tremaining: 1.35s\n",
            "396:\tlearn: 0.3383387\ttotal: 887ms\tremaining: 1.35s\n",
            "397:\tlearn: 0.3380800\ttotal: 889ms\tremaining: 1.34s\n",
            "398:\tlearn: 0.3378297\ttotal: 891ms\tremaining: 1.34s\n",
            "399:\tlearn: 0.3376356\ttotal: 894ms\tremaining: 1.34s\n",
            "400:\tlearn: 0.3372942\ttotal: 896ms\tremaining: 1.34s\n",
            "401:\tlearn: 0.3369542\ttotal: 898ms\tremaining: 1.33s\n",
            "402:\tlearn: 0.3365380\ttotal: 900ms\tremaining: 1.33s\n",
            "403:\tlearn: 0.3361978\ttotal: 903ms\tremaining: 1.33s\n",
            "404:\tlearn: 0.3359759\ttotal: 909ms\tremaining: 1.33s\n",
            "405:\tlearn: 0.3357124\ttotal: 913ms\tremaining: 1.33s\n",
            "406:\tlearn: 0.3355177\ttotal: 915ms\tremaining: 1.33s\n",
            "407:\tlearn: 0.3353789\ttotal: 917ms\tremaining: 1.33s\n",
            "408:\tlearn: 0.3352938\ttotal: 918ms\tremaining: 1.33s\n",
            "409:\tlearn: 0.3348300\ttotal: 920ms\tremaining: 1.32s\n",
            "410:\tlearn: 0.3344783\ttotal: 923ms\tremaining: 1.32s\n",
            "411:\tlearn: 0.3342820\ttotal: 925ms\tremaining: 1.32s\n",
            "412:\tlearn: 0.3339539\ttotal: 927ms\tremaining: 1.32s\n",
            "413:\tlearn: 0.3336972\ttotal: 929ms\tremaining: 1.31s\n",
            "414:\tlearn: 0.3335048\ttotal: 931ms\tremaining: 1.31s\n",
            "415:\tlearn: 0.3332059\ttotal: 933ms\tremaining: 1.31s\n",
            "416:\tlearn: 0.3329697\ttotal: 935ms\tremaining: 1.31s\n",
            "417:\tlearn: 0.3327096\ttotal: 937ms\tremaining: 1.3s\n",
            "418:\tlearn: 0.3324557\ttotal: 939ms\tremaining: 1.3s\n",
            "419:\tlearn: 0.3321975\ttotal: 941ms\tremaining: 1.3s\n",
            "420:\tlearn: 0.3320695\ttotal: 943ms\tremaining: 1.3s\n",
            "421:\tlearn: 0.3316552\ttotal: 945ms\tremaining: 1.29s\n",
            "422:\tlearn: 0.3314584\ttotal: 947ms\tremaining: 1.29s\n",
            "423:\tlearn: 0.3312281\ttotal: 949ms\tremaining: 1.29s\n",
            "424:\tlearn: 0.3308939\ttotal: 951ms\tremaining: 1.29s\n",
            "425:\tlearn: 0.3306344\ttotal: 953ms\tremaining: 1.28s\n",
            "426:\tlearn: 0.3304271\ttotal: 955ms\tremaining: 1.28s\n",
            "427:\tlearn: 0.3301730\ttotal: 957ms\tremaining: 1.28s\n",
            "428:\tlearn: 0.3298752\ttotal: 960ms\tremaining: 1.28s\n",
            "429:\tlearn: 0.3296493\ttotal: 962ms\tremaining: 1.27s\n",
            "430:\tlearn: 0.3293279\ttotal: 964ms\tremaining: 1.27s\n",
            "431:\tlearn: 0.3290639\ttotal: 966ms\tremaining: 1.27s\n",
            "432:\tlearn: 0.3286870\ttotal: 968ms\tremaining: 1.27s\n",
            "433:\tlearn: 0.3284816\ttotal: 970ms\tremaining: 1.26s\n",
            "434:\tlearn: 0.3282774\ttotal: 977ms\tremaining: 1.27s\n",
            "435:\tlearn: 0.3280810\ttotal: 980ms\tremaining: 1.27s\n",
            "436:\tlearn: 0.3275065\ttotal: 982ms\tremaining: 1.26s\n",
            "437:\tlearn: 0.3272404\ttotal: 984ms\tremaining: 1.26s\n",
            "438:\tlearn: 0.3270527\ttotal: 986ms\tremaining: 1.26s\n",
            "439:\tlearn: 0.3268668\ttotal: 988ms\tremaining: 1.26s\n",
            "440:\tlearn: 0.3267309\ttotal: 990ms\tremaining: 1.25s\n",
            "441:\tlearn: 0.3265859\ttotal: 991ms\tremaining: 1.25s\n",
            "442:\tlearn: 0.3263653\ttotal: 994ms\tremaining: 1.25s\n",
            "443:\tlearn: 0.3259529\ttotal: 996ms\tremaining: 1.25s\n",
            "444:\tlearn: 0.3258127\ttotal: 998ms\tremaining: 1.24s\n",
            "445:\tlearn: 0.3254325\ttotal: 1000ms\tremaining: 1.24s\n",
            "446:\tlearn: 0.3252523\ttotal: 1s\tremaining: 1.24s\n",
            "447:\tlearn: 0.3249085\ttotal: 1s\tremaining: 1.24s\n",
            "448:\tlearn: 0.3243824\ttotal: 1s\tremaining: 1.23s\n",
            "449:\tlearn: 0.3239598\ttotal: 1.01s\tremaining: 1.23s\n",
            "450:\tlearn: 0.3237433\ttotal: 1.01s\tremaining: 1.23s\n",
            "451:\tlearn: 0.3233490\ttotal: 1.01s\tremaining: 1.23s\n",
            "452:\tlearn: 0.3230363\ttotal: 1.01s\tremaining: 1.22s\n",
            "453:\tlearn: 0.3228785\ttotal: 1.02s\tremaining: 1.22s\n",
            "454:\tlearn: 0.3226620\ttotal: 1.02s\tremaining: 1.22s\n",
            "455:\tlearn: 0.3224208\ttotal: 1.02s\tremaining: 1.22s\n",
            "456:\tlearn: 0.3222096\ttotal: 1.02s\tremaining: 1.21s\n",
            "457:\tlearn: 0.3218802\ttotal: 1.02s\tremaining: 1.21s\n",
            "458:\tlearn: 0.3216865\ttotal: 1.03s\tremaining: 1.21s\n",
            "459:\tlearn: 0.3214071\ttotal: 1.03s\tremaining: 1.21s\n",
            "460:\tlearn: 0.3211507\ttotal: 1.03s\tremaining: 1.21s\n",
            "461:\tlearn: 0.3208527\ttotal: 1.03s\tremaining: 1.2s\n",
            "462:\tlearn: 0.3204868\ttotal: 1.03s\tremaining: 1.2s\n",
            "463:\tlearn: 0.3203076\ttotal: 1.04s\tremaining: 1.2s\n",
            "464:\tlearn: 0.3199982\ttotal: 1.04s\tremaining: 1.2s\n",
            "465:\tlearn: 0.3197226\ttotal: 1.04s\tremaining: 1.19s\n",
            "466:\tlearn: 0.3195409\ttotal: 1.04s\tremaining: 1.19s\n",
            "467:\tlearn: 0.3192899\ttotal: 1.04s\tremaining: 1.19s\n",
            "468:\tlearn: 0.3190908\ttotal: 1.05s\tremaining: 1.19s\n",
            "469:\tlearn: 0.3188073\ttotal: 1.05s\tremaining: 1.18s\n",
            "470:\tlearn: 0.3186014\ttotal: 1.05s\tremaining: 1.18s\n",
            "471:\tlearn: 0.3184284\ttotal: 1.05s\tremaining: 1.18s\n",
            "472:\tlearn: 0.3182750\ttotal: 1.05s\tremaining: 1.18s\n",
            "473:\tlearn: 0.3179287\ttotal: 1.06s\tremaining: 1.17s\n",
            "474:\tlearn: 0.3176782\ttotal: 1.06s\tremaining: 1.17s\n",
            "475:\tlearn: 0.3174478\ttotal: 1.07s\tremaining: 1.17s\n",
            "476:\tlearn: 0.3172324\ttotal: 1.07s\tremaining: 1.17s\n",
            "477:\tlearn: 0.3171589\ttotal: 1.07s\tremaining: 1.17s\n",
            "478:\tlearn: 0.3168230\ttotal: 1.07s\tremaining: 1.17s\n",
            "479:\tlearn: 0.3165841\ttotal: 1.08s\tremaining: 1.17s\n",
            "480:\tlearn: 0.3164165\ttotal: 1.08s\tremaining: 1.17s\n",
            "481:\tlearn: 0.3161333\ttotal: 1.08s\tremaining: 1.16s\n",
            "482:\tlearn: 0.3158779\ttotal: 1.08s\tremaining: 1.16s\n",
            "483:\tlearn: 0.3154915\ttotal: 1.09s\tremaining: 1.16s\n",
            "484:\tlearn: 0.3153147\ttotal: 1.09s\tremaining: 1.16s\n",
            "485:\tlearn: 0.3151056\ttotal: 1.09s\tremaining: 1.15s\n",
            "486:\tlearn: 0.3150036\ttotal: 1.09s\tremaining: 1.15s\n",
            "487:\tlearn: 0.3147230\ttotal: 1.1s\tremaining: 1.15s\n",
            "488:\tlearn: 0.3143186\ttotal: 1.1s\tremaining: 1.15s\n",
            "489:\tlearn: 0.3142125\ttotal: 1.1s\tremaining: 1.15s\n",
            "490:\tlearn: 0.3139868\ttotal: 1.11s\tremaining: 1.15s\n",
            "491:\tlearn: 0.3137710\ttotal: 1.11s\tremaining: 1.14s\n",
            "492:\tlearn: 0.3135055\ttotal: 1.11s\tremaining: 1.14s\n",
            "493:\tlearn: 0.3132186\ttotal: 1.11s\tremaining: 1.14s\n",
            "494:\tlearn: 0.3129330\ttotal: 1.11s\tremaining: 1.14s\n",
            "495:\tlearn: 0.3125312\ttotal: 1.12s\tremaining: 1.13s\n",
            "496:\tlearn: 0.3120834\ttotal: 1.12s\tremaining: 1.13s\n",
            "497:\tlearn: 0.3118797\ttotal: 1.12s\tremaining: 1.13s\n",
            "498:\tlearn: 0.3116022\ttotal: 1.12s\tremaining: 1.13s\n",
            "499:\tlearn: 0.3114124\ttotal: 1.13s\tremaining: 1.13s\n",
            "500:\tlearn: 0.3109711\ttotal: 1.13s\tremaining: 1.12s\n",
            "501:\tlearn: 0.3106041\ttotal: 1.13s\tremaining: 1.12s\n",
            "502:\tlearn: 0.3103924\ttotal: 1.13s\tremaining: 1.12s\n",
            "503:\tlearn: 0.3099532\ttotal: 1.13s\tremaining: 1.11s\n",
            "504:\tlearn: 0.3096280\ttotal: 1.14s\tremaining: 1.11s\n",
            "505:\tlearn: 0.3093060\ttotal: 1.14s\tremaining: 1.11s\n",
            "506:\tlearn: 0.3090360\ttotal: 1.14s\tremaining: 1.11s\n",
            "507:\tlearn: 0.3087647\ttotal: 1.14s\tremaining: 1.1s\n",
            "508:\tlearn: 0.3085505\ttotal: 1.14s\tremaining: 1.1s\n",
            "509:\tlearn: 0.3082075\ttotal: 1.15s\tremaining: 1.1s\n",
            "510:\tlearn: 0.3080229\ttotal: 1.15s\tremaining: 1.1s\n",
            "511:\tlearn: 0.3078642\ttotal: 1.15s\tremaining: 1.1s\n",
            "512:\tlearn: 0.3076518\ttotal: 1.15s\tremaining: 1.09s\n",
            "513:\tlearn: 0.3074606\ttotal: 1.15s\tremaining: 1.09s\n",
            "514:\tlearn: 0.3072411\ttotal: 1.16s\tremaining: 1.09s\n",
            "515:\tlearn: 0.3069085\ttotal: 1.16s\tremaining: 1.09s\n",
            "516:\tlearn: 0.3067107\ttotal: 1.16s\tremaining: 1.08s\n",
            "517:\tlearn: 0.3064235\ttotal: 1.16s\tremaining: 1.08s\n",
            "518:\tlearn: 0.3061776\ttotal: 1.17s\tremaining: 1.08s\n",
            "519:\tlearn: 0.3059154\ttotal: 1.17s\tremaining: 1.08s\n",
            "520:\tlearn: 0.3056174\ttotal: 1.17s\tremaining: 1.07s\n",
            "521:\tlearn: 0.3053885\ttotal: 1.17s\tremaining: 1.07s\n",
            "522:\tlearn: 0.3050496\ttotal: 1.18s\tremaining: 1.07s\n",
            "523:\tlearn: 0.3048981\ttotal: 1.18s\tremaining: 1.07s\n",
            "524:\tlearn: 0.3045468\ttotal: 1.18s\tremaining: 1.07s\n",
            "525:\tlearn: 0.3043465\ttotal: 1.18s\tremaining: 1.06s\n",
            "526:\tlearn: 0.3041492\ttotal: 1.18s\tremaining: 1.06s\n",
            "527:\tlearn: 0.3037386\ttotal: 1.19s\tremaining: 1.06s\n",
            "528:\tlearn: 0.3034902\ttotal: 1.19s\tremaining: 1.06s\n",
            "529:\tlearn: 0.3032092\ttotal: 1.19s\tremaining: 1.05s\n",
            "530:\tlearn: 0.3029755\ttotal: 1.19s\tremaining: 1.05s\n",
            "531:\tlearn: 0.3027111\ttotal: 1.19s\tremaining: 1.05s\n",
            "532:\tlearn: 0.3024955\ttotal: 1.2s\tremaining: 1.05s\n",
            "533:\tlearn: 0.3022995\ttotal: 1.2s\tremaining: 1.04s\n",
            "534:\tlearn: 0.3020151\ttotal: 1.2s\tremaining: 1.04s\n",
            "535:\tlearn: 0.3018370\ttotal: 1.2s\tremaining: 1.04s\n",
            "536:\tlearn: 0.3014708\ttotal: 1.2s\tremaining: 1.04s\n",
            "537:\tlearn: 0.3011772\ttotal: 1.21s\tremaining: 1.04s\n",
            "538:\tlearn: 0.3009735\ttotal: 1.21s\tremaining: 1.03s\n",
            "539:\tlearn: 0.3006568\ttotal: 1.21s\tremaining: 1.03s\n",
            "540:\tlearn: 0.3005896\ttotal: 1.21s\tremaining: 1.03s\n",
            "541:\tlearn: 0.3004348\ttotal: 1.22s\tremaining: 1.03s\n",
            "542:\tlearn: 0.3003337\ttotal: 1.22s\tremaining: 1.02s\n",
            "543:\tlearn: 0.3001542\ttotal: 1.22s\tremaining: 1.02s\n",
            "544:\tlearn: 0.2997362\ttotal: 1.22s\tremaining: 1.02s\n",
            "545:\tlearn: 0.2995376\ttotal: 1.22s\tremaining: 1.02s\n",
            "546:\tlearn: 0.2993401\ttotal: 1.23s\tremaining: 1.01s\n",
            "547:\tlearn: 0.2991586\ttotal: 1.23s\tremaining: 1.01s\n",
            "548:\tlearn: 0.2991464\ttotal: 1.23s\tremaining: 1.01s\n",
            "549:\tlearn: 0.2987868\ttotal: 1.23s\tremaining: 1.01s\n",
            "550:\tlearn: 0.2986702\ttotal: 1.23s\tremaining: 1s\n",
            "551:\tlearn: 0.2984935\ttotal: 1.23s\tremaining: 1s\n",
            "552:\tlearn: 0.2983048\ttotal: 1.24s\tremaining: 1000ms\n",
            "553:\tlearn: 0.2979455\ttotal: 1.24s\tremaining: 998ms\n",
            "554:\tlearn: 0.2976222\ttotal: 1.24s\tremaining: 995ms\n",
            "555:\tlearn: 0.2974373\ttotal: 1.24s\tremaining: 993ms\n",
            "556:\tlearn: 0.2973271\ttotal: 1.25s\tremaining: 990ms\n",
            "557:\tlearn: 0.2969697\ttotal: 1.25s\tremaining: 988ms\n",
            "558:\tlearn: 0.2967171\ttotal: 1.25s\tremaining: 986ms\n",
            "559:\tlearn: 0.2965102\ttotal: 1.25s\tremaining: 983ms\n",
            "560:\tlearn: 0.2963203\ttotal: 1.25s\tremaining: 981ms\n",
            "561:\tlearn: 0.2961298\ttotal: 1.25s\tremaining: 979ms\n",
            "562:\tlearn: 0.2957649\ttotal: 1.26s\tremaining: 976ms\n",
            "563:\tlearn: 0.2956424\ttotal: 1.26s\tremaining: 974ms\n",
            "564:\tlearn: 0.2954044\ttotal: 1.26s\tremaining: 972ms\n",
            "565:\tlearn: 0.2952327\ttotal: 1.26s\tremaining: 970ms\n",
            "566:\tlearn: 0.2950827\ttotal: 1.27s\tremaining: 967ms\n",
            "567:\tlearn: 0.2948794\ttotal: 1.27s\tremaining: 965ms\n",
            "568:\tlearn: 0.2947075\ttotal: 1.27s\tremaining: 962ms\n",
            "569:\tlearn: 0.2945131\ttotal: 1.27s\tremaining: 960ms\n",
            "570:\tlearn: 0.2942884\ttotal: 1.27s\tremaining: 958ms\n",
            "571:\tlearn: 0.2941095\ttotal: 1.28s\tremaining: 955ms\n",
            "572:\tlearn: 0.2937922\ttotal: 1.28s\tremaining: 953ms\n",
            "573:\tlearn: 0.2936312\ttotal: 1.28s\tremaining: 950ms\n",
            "574:\tlearn: 0.2935003\ttotal: 1.28s\tremaining: 948ms\n",
            "575:\tlearn: 0.2932675\ttotal: 1.28s\tremaining: 946ms\n",
            "576:\tlearn: 0.2931315\ttotal: 1.29s\tremaining: 944ms\n",
            "577:\tlearn: 0.2928222\ttotal: 1.29s\tremaining: 941ms\n",
            "578:\tlearn: 0.2926432\ttotal: 1.29s\tremaining: 939ms\n",
            "579:\tlearn: 0.2925403\ttotal: 1.29s\tremaining: 937ms\n",
            "580:\tlearn: 0.2923352\ttotal: 1.3s\tremaining: 936ms\n",
            "581:\tlearn: 0.2920098\ttotal: 1.3s\tremaining: 934ms\n",
            "582:\tlearn: 0.2916317\ttotal: 1.3s\tremaining: 932ms\n",
            "583:\tlearn: 0.2913462\ttotal: 1.3s\tremaining: 929ms\n",
            "584:\tlearn: 0.2911678\ttotal: 1.31s\tremaining: 927ms\n",
            "585:\tlearn: 0.2909823\ttotal: 1.31s\tremaining: 924ms\n",
            "586:\tlearn: 0.2906149\ttotal: 1.31s\tremaining: 922ms\n",
            "587:\tlearn: 0.2903895\ttotal: 1.31s\tremaining: 920ms\n",
            "588:\tlearn: 0.2901420\ttotal: 1.31s\tremaining: 917ms\n",
            "589:\tlearn: 0.2899139\ttotal: 1.32s\tremaining: 915ms\n",
            "590:\tlearn: 0.2897049\ttotal: 1.32s\tremaining: 913ms\n",
            "591:\tlearn: 0.2895278\ttotal: 1.32s\tremaining: 910ms\n",
            "592:\tlearn: 0.2891875\ttotal: 1.32s\tremaining: 908ms\n",
            "593:\tlearn: 0.2888902\ttotal: 1.32s\tremaining: 905ms\n",
            "594:\tlearn: 0.2887303\ttotal: 1.33s\tremaining: 903ms\n",
            "595:\tlearn: 0.2885594\ttotal: 1.33s\tremaining: 901ms\n",
            "596:\tlearn: 0.2881980\ttotal: 1.33s\tremaining: 898ms\n",
            "597:\tlearn: 0.2880011\ttotal: 1.33s\tremaining: 896ms\n",
            "598:\tlearn: 0.2876752\ttotal: 1.33s\tremaining: 894ms\n",
            "599:\tlearn: 0.2874179\ttotal: 1.34s\tremaining: 892ms\n",
            "600:\tlearn: 0.2872055\ttotal: 1.34s\tremaining: 889ms\n",
            "601:\tlearn: 0.2869808\ttotal: 1.34s\tremaining: 887ms\n",
            "602:\tlearn: 0.2866920\ttotal: 1.34s\tremaining: 885ms\n",
            "603:\tlearn: 0.2864765\ttotal: 1.34s\tremaining: 882ms\n",
            "604:\tlearn: 0.2862218\ttotal: 1.35s\tremaining: 880ms\n",
            "605:\tlearn: 0.2860337\ttotal: 1.35s\tremaining: 878ms\n",
            "606:\tlearn: 0.2856598\ttotal: 1.35s\tremaining: 875ms\n",
            "607:\tlearn: 0.2854688\ttotal: 1.35s\tremaining: 873ms\n",
            "608:\tlearn: 0.2852626\ttotal: 1.36s\tremaining: 871ms\n",
            "609:\tlearn: 0.2850209\ttotal: 1.36s\tremaining: 868ms\n",
            "610:\tlearn: 0.2847544\ttotal: 1.36s\tremaining: 866ms\n",
            "611:\tlearn: 0.2844585\ttotal: 1.36s\tremaining: 864ms\n",
            "612:\tlearn: 0.2842012\ttotal: 1.36s\tremaining: 861ms\n",
            "613:\tlearn: 0.2839136\ttotal: 1.37s\tremaining: 860ms\n",
            "614:\tlearn: 0.2836103\ttotal: 1.37s\tremaining: 858ms\n",
            "615:\tlearn: 0.2834525\ttotal: 1.37s\tremaining: 856ms\n",
            "616:\tlearn: 0.2832328\ttotal: 1.37s\tremaining: 853ms\n",
            "617:\tlearn: 0.2831487\ttotal: 1.38s\tremaining: 851ms\n",
            "618:\tlearn: 0.2828422\ttotal: 1.38s\tremaining: 849ms\n",
            "619:\tlearn: 0.2826989\ttotal: 1.38s\tremaining: 846ms\n",
            "620:\tlearn: 0.2826086\ttotal: 1.38s\tremaining: 844ms\n",
            "621:\tlearn: 0.2823449\ttotal: 1.39s\tremaining: 842ms\n",
            "622:\tlearn: 0.2820953\ttotal: 1.39s\tremaining: 840ms\n",
            "623:\tlearn: 0.2820421\ttotal: 1.39s\tremaining: 837ms\n",
            "624:\tlearn: 0.2817695\ttotal: 1.39s\tremaining: 834ms\n",
            "625:\tlearn: 0.2815639\ttotal: 1.39s\tremaining: 832ms\n",
            "626:\tlearn: 0.2814712\ttotal: 1.39s\tremaining: 829ms\n",
            "627:\tlearn: 0.2812642\ttotal: 1.4s\tremaining: 827ms\n",
            "628:\tlearn: 0.2811484\ttotal: 1.4s\tremaining: 825ms\n",
            "629:\tlearn: 0.2809662\ttotal: 1.4s\tremaining: 822ms\n",
            "630:\tlearn: 0.2807348\ttotal: 1.4s\tremaining: 820ms\n",
            "631:\tlearn: 0.2805111\ttotal: 1.4s\tremaining: 818ms\n",
            "632:\tlearn: 0.2803221\ttotal: 1.41s\tremaining: 815ms\n",
            "633:\tlearn: 0.2801157\ttotal: 1.41s\tremaining: 813ms\n",
            "634:\tlearn: 0.2799040\ttotal: 1.41s\tremaining: 811ms\n",
            "635:\tlearn: 0.2797293\ttotal: 1.41s\tremaining: 808ms\n",
            "636:\tlearn: 0.2795230\ttotal: 1.41s\tremaining: 806ms\n",
            "637:\tlearn: 0.2792084\ttotal: 1.42s\tremaining: 804ms\n",
            "638:\tlearn: 0.2790697\ttotal: 1.42s\tremaining: 801ms\n",
            "639:\tlearn: 0.2789187\ttotal: 1.42s\tremaining: 799ms\n",
            "640:\tlearn: 0.2787124\ttotal: 1.42s\tremaining: 797ms\n",
            "641:\tlearn: 0.2784743\ttotal: 1.42s\tremaining: 794ms\n",
            "642:\tlearn: 0.2781557\ttotal: 1.43s\tremaining: 792ms\n",
            "643:\tlearn: 0.2780192\ttotal: 1.43s\tremaining: 790ms\n",
            "644:\tlearn: 0.2777407\ttotal: 1.43s\tremaining: 787ms\n",
            "645:\tlearn: 0.2775735\ttotal: 1.43s\tremaining: 785ms\n",
            "646:\tlearn: 0.2773156\ttotal: 1.44s\tremaining: 783ms\n",
            "647:\tlearn: 0.2770471\ttotal: 1.44s\tremaining: 781ms\n",
            "648:\tlearn: 0.2769123\ttotal: 1.44s\tremaining: 778ms\n",
            "649:\tlearn: 0.2767707\ttotal: 1.44s\tremaining: 776ms\n",
            "650:\tlearn: 0.2765256\ttotal: 1.44s\tremaining: 774ms\n",
            "651:\tlearn: 0.2763238\ttotal: 1.45s\tremaining: 772ms\n",
            "652:\tlearn: 0.2761715\ttotal: 1.45s\tremaining: 769ms\n",
            "653:\tlearn: 0.2759848\ttotal: 1.45s\tremaining: 767ms\n",
            "654:\tlearn: 0.2757822\ttotal: 1.45s\tremaining: 765ms\n",
            "655:\tlearn: 0.2755671\ttotal: 1.45s\tremaining: 763ms\n",
            "656:\tlearn: 0.2753128\ttotal: 1.46s\tremaining: 760ms\n",
            "657:\tlearn: 0.2750175\ttotal: 1.46s\tremaining: 758ms\n",
            "658:\tlearn: 0.2747267\ttotal: 1.46s\tremaining: 756ms\n",
            "659:\tlearn: 0.2745489\ttotal: 1.46s\tremaining: 753ms\n",
            "660:\tlearn: 0.2744013\ttotal: 1.46s\tremaining: 751ms\n",
            "661:\tlearn: 0.2743069\ttotal: 1.47s\tremaining: 749ms\n",
            "662:\tlearn: 0.2741387\ttotal: 1.47s\tremaining: 747ms\n",
            "663:\tlearn: 0.2738382\ttotal: 1.47s\tremaining: 744ms\n",
            "664:\tlearn: 0.2736946\ttotal: 1.47s\tremaining: 742ms\n",
            "665:\tlearn: 0.2735056\ttotal: 1.48s\tremaining: 740ms\n",
            "666:\tlearn: 0.2732408\ttotal: 1.48s\tremaining: 737ms\n",
            "667:\tlearn: 0.2731093\ttotal: 1.48s\tremaining: 735ms\n",
            "668:\tlearn: 0.2729946\ttotal: 1.48s\tremaining: 733ms\n",
            "669:\tlearn: 0.2729400\ttotal: 1.48s\tremaining: 731ms\n",
            "670:\tlearn: 0.2726065\ttotal: 1.49s\tremaining: 728ms\n",
            "671:\tlearn: 0.2724380\ttotal: 1.49s\tremaining: 726ms\n",
            "672:\tlearn: 0.2721625\ttotal: 1.49s\tremaining: 725ms\n",
            "673:\tlearn: 0.2720102\ttotal: 1.49s\tremaining: 723ms\n",
            "674:\tlearn: 0.2718523\ttotal: 1.5s\tremaining: 720ms\n",
            "675:\tlearn: 0.2716425\ttotal: 1.5s\tremaining: 718ms\n",
            "676:\tlearn: 0.2713923\ttotal: 1.5s\tremaining: 716ms\n",
            "677:\tlearn: 0.2711192\ttotal: 1.5s\tremaining: 713ms\n",
            "678:\tlearn: 0.2709509\ttotal: 1.5s\tremaining: 711ms\n",
            "679:\tlearn: 0.2708220\ttotal: 1.51s\tremaining: 709ms\n",
            "680:\tlearn: 0.2705754\ttotal: 1.51s\tremaining: 707ms\n",
            "681:\tlearn: 0.2704758\ttotal: 1.51s\tremaining: 704ms\n",
            "682:\tlearn: 0.2702145\ttotal: 1.51s\tremaining: 702ms\n",
            "683:\tlearn: 0.2699751\ttotal: 1.51s\tremaining: 700ms\n",
            "684:\tlearn: 0.2699169\ttotal: 1.52s\tremaining: 697ms\n",
            "685:\tlearn: 0.2697822\ttotal: 1.52s\tremaining: 695ms\n",
            "686:\tlearn: 0.2694976\ttotal: 1.52s\tremaining: 693ms\n",
            "687:\tlearn: 0.2691804\ttotal: 1.52s\tremaining: 691ms\n",
            "688:\tlearn: 0.2690797\ttotal: 1.52s\tremaining: 688ms\n",
            "689:\tlearn: 0.2688861\ttotal: 1.53s\tremaining: 686ms\n",
            "690:\tlearn: 0.2687422\ttotal: 1.53s\tremaining: 684ms\n",
            "691:\tlearn: 0.2685386\ttotal: 1.53s\tremaining: 681ms\n",
            "692:\tlearn: 0.2683539\ttotal: 1.53s\tremaining: 679ms\n",
            "693:\tlearn: 0.2682821\ttotal: 1.53s\tremaining: 677ms\n",
            "694:\tlearn: 0.2680939\ttotal: 1.54s\tremaining: 675ms\n",
            "695:\tlearn: 0.2677483\ttotal: 1.54s\tremaining: 672ms\n",
            "696:\tlearn: 0.2675943\ttotal: 1.54s\tremaining: 670ms\n",
            "697:\tlearn: 0.2672680\ttotal: 1.54s\tremaining: 668ms\n",
            "698:\tlearn: 0.2671031\ttotal: 1.54s\tremaining: 665ms\n",
            "699:\tlearn: 0.2668550\ttotal: 1.55s\tremaining: 663ms\n",
            "700:\tlearn: 0.2665252\ttotal: 1.55s\tremaining: 661ms\n",
            "701:\tlearn: 0.2664119\ttotal: 1.55s\tremaining: 659ms\n",
            "702:\tlearn: 0.2662243\ttotal: 1.55s\tremaining: 656ms\n",
            "703:\tlearn: 0.2661094\ttotal: 1.55s\tremaining: 654ms\n",
            "704:\tlearn: 0.2657857\ttotal: 1.56s\tremaining: 652ms\n",
            "705:\tlearn: 0.2656279\ttotal: 1.56s\tremaining: 650ms\n",
            "706:\tlearn: 0.2655588\ttotal: 1.56s\tremaining: 648ms\n",
            "707:\tlearn: 0.2652675\ttotal: 1.57s\tremaining: 646ms\n",
            "708:\tlearn: 0.2649796\ttotal: 1.57s\tremaining: 644ms\n",
            "709:\tlearn: 0.2648799\ttotal: 1.57s\tremaining: 641ms\n",
            "710:\tlearn: 0.2646848\ttotal: 1.57s\tremaining: 639ms\n",
            "711:\tlearn: 0.2645094\ttotal: 1.57s\tremaining: 637ms\n",
            "712:\tlearn: 0.2643350\ttotal: 1.58s\tremaining: 635ms\n",
            "713:\tlearn: 0.2641096\ttotal: 1.58s\tremaining: 632ms\n",
            "714:\tlearn: 0.2640057\ttotal: 1.58s\tremaining: 630ms\n",
            "715:\tlearn: 0.2638752\ttotal: 1.58s\tremaining: 628ms\n",
            "716:\tlearn: 0.2636690\ttotal: 1.58s\tremaining: 625ms\n",
            "717:\tlearn: 0.2634247\ttotal: 1.59s\tremaining: 623ms\n",
            "718:\tlearn: 0.2633832\ttotal: 1.59s\tremaining: 621ms\n",
            "719:\tlearn: 0.2631383\ttotal: 1.59s\tremaining: 618ms\n",
            "720:\tlearn: 0.2628713\ttotal: 1.59s\tremaining: 616ms\n",
            "721:\tlearn: 0.2627263\ttotal: 1.59s\tremaining: 614ms\n",
            "722:\tlearn: 0.2625341\ttotal: 1.59s\tremaining: 611ms\n",
            "723:\tlearn: 0.2622686\ttotal: 1.6s\tremaining: 609ms\n",
            "724:\tlearn: 0.2621259\ttotal: 1.6s\tremaining: 607ms\n",
            "725:\tlearn: 0.2618864\ttotal: 1.6s\tremaining: 605ms\n",
            "726:\tlearn: 0.2616505\ttotal: 1.6s\tremaining: 603ms\n",
            "727:\tlearn: 0.2614504\ttotal: 1.61s\tremaining: 601ms\n",
            "728:\tlearn: 0.2612140\ttotal: 1.61s\tremaining: 598ms\n",
            "729:\tlearn: 0.2609941\ttotal: 1.61s\tremaining: 596ms\n",
            "730:\tlearn: 0.2608084\ttotal: 1.61s\tremaining: 594ms\n",
            "731:\tlearn: 0.2605311\ttotal: 1.61s\tremaining: 592ms\n",
            "732:\tlearn: 0.2602858\ttotal: 1.62s\tremaining: 589ms\n",
            "733:\tlearn: 0.2601142\ttotal: 1.62s\tremaining: 587ms\n",
            "734:\tlearn: 0.2599190\ttotal: 1.62s\tremaining: 585ms\n",
            "735:\tlearn: 0.2597428\ttotal: 1.62s\tremaining: 583ms\n",
            "736:\tlearn: 0.2596793\ttotal: 1.63s\tremaining: 580ms\n",
            "737:\tlearn: 0.2596232\ttotal: 1.63s\tremaining: 578ms\n",
            "738:\tlearn: 0.2594876\ttotal: 1.63s\tremaining: 576ms\n",
            "739:\tlearn: 0.2593753\ttotal: 1.63s\tremaining: 574ms\n",
            "740:\tlearn: 0.2590903\ttotal: 1.63s\tremaining: 571ms\n",
            "741:\tlearn: 0.2589079\ttotal: 1.64s\tremaining: 569ms\n",
            "742:\tlearn: 0.2585126\ttotal: 1.64s\tremaining: 567ms\n",
            "743:\tlearn: 0.2583245\ttotal: 1.64s\tremaining: 564ms\n",
            "744:\tlearn: 0.2581826\ttotal: 1.64s\tremaining: 562ms\n",
            "745:\tlearn: 0.2579963\ttotal: 1.64s\tremaining: 560ms\n",
            "746:\tlearn: 0.2576997\ttotal: 1.65s\tremaining: 558ms\n",
            "747:\tlearn: 0.2575782\ttotal: 1.65s\tremaining: 555ms\n",
            "748:\tlearn: 0.2574235\ttotal: 1.65s\tremaining: 553ms\n",
            "749:\tlearn: 0.2572615\ttotal: 1.65s\tremaining: 551ms\n",
            "750:\tlearn: 0.2569936\ttotal: 1.65s\tremaining: 549ms\n",
            "751:\tlearn: 0.2568670\ttotal: 1.66s\tremaining: 546ms\n",
            "752:\tlearn: 0.2566550\ttotal: 1.66s\tremaining: 544ms\n",
            "753:\tlearn: 0.2565009\ttotal: 1.66s\tremaining: 542ms\n",
            "754:\tlearn: 0.2564333\ttotal: 1.66s\tremaining: 540ms\n",
            "755:\tlearn: 0.2562754\ttotal: 1.67s\tremaining: 537ms\n",
            "756:\tlearn: 0.2562149\ttotal: 1.67s\tremaining: 535ms\n",
            "757:\tlearn: 0.2560323\ttotal: 1.67s\tremaining: 533ms\n",
            "758:\tlearn: 0.2557454\ttotal: 1.67s\tremaining: 531ms\n",
            "759:\tlearn: 0.2555724\ttotal: 1.67s\tremaining: 529ms\n",
            "760:\tlearn: 0.2552633\ttotal: 1.68s\tremaining: 526ms\n",
            "761:\tlearn: 0.2550088\ttotal: 1.68s\tremaining: 524ms\n",
            "762:\tlearn: 0.2548300\ttotal: 1.68s\tremaining: 523ms\n",
            "763:\tlearn: 0.2545854\ttotal: 1.69s\tremaining: 521ms\n",
            "764:\tlearn: 0.2544511\ttotal: 1.69s\tremaining: 519ms\n",
            "765:\tlearn: 0.2542752\ttotal: 1.69s\tremaining: 516ms\n",
            "766:\tlearn: 0.2541259\ttotal: 1.69s\tremaining: 514ms\n",
            "767:\tlearn: 0.2539649\ttotal: 1.69s\tremaining: 512ms\n",
            "768:\tlearn: 0.2537821\ttotal: 1.7s\tremaining: 510ms\n",
            "769:\tlearn: 0.2536446\ttotal: 1.7s\tremaining: 508ms\n",
            "770:\tlearn: 0.2533497\ttotal: 1.7s\tremaining: 505ms\n",
            "771:\tlearn: 0.2531724\ttotal: 1.7s\tremaining: 503ms\n",
            "772:\tlearn: 0.2529595\ttotal: 1.71s\tremaining: 501ms\n",
            "773:\tlearn: 0.2527992\ttotal: 1.71s\tremaining: 499ms\n",
            "774:\tlearn: 0.2524536\ttotal: 1.71s\tremaining: 496ms\n",
            "775:\tlearn: 0.2523146\ttotal: 1.71s\tremaining: 494ms\n",
            "776:\tlearn: 0.2521137\ttotal: 1.71s\tremaining: 492ms\n",
            "777:\tlearn: 0.2519550\ttotal: 1.72s\tremaining: 490ms\n",
            "778:\tlearn: 0.2518558\ttotal: 1.72s\tremaining: 487ms\n",
            "779:\tlearn: 0.2517523\ttotal: 1.72s\tremaining: 485ms\n",
            "780:\tlearn: 0.2515770\ttotal: 1.72s\tremaining: 483ms\n",
            "781:\tlearn: 0.2513891\ttotal: 1.72s\tremaining: 481ms\n",
            "782:\tlearn: 0.2513023\ttotal: 1.73s\tremaining: 478ms\n",
            "783:\tlearn: 0.2509989\ttotal: 1.73s\tremaining: 476ms\n",
            "784:\tlearn: 0.2505928\ttotal: 1.73s\tremaining: 474ms\n",
            "785:\tlearn: 0.2504420\ttotal: 1.73s\tremaining: 472ms\n",
            "786:\tlearn: 0.2502314\ttotal: 1.73s\tremaining: 469ms\n",
            "787:\tlearn: 0.2500033\ttotal: 1.74s\tremaining: 467ms\n",
            "788:\tlearn: 0.2497574\ttotal: 1.74s\tremaining: 465ms\n",
            "789:\tlearn: 0.2495961\ttotal: 1.74s\tremaining: 463ms\n",
            "790:\tlearn: 0.2494824\ttotal: 1.75s\tremaining: 461ms\n",
            "791:\tlearn: 0.2493984\ttotal: 1.75s\tremaining: 459ms\n",
            "792:\tlearn: 0.2492828\ttotal: 1.75s\tremaining: 457ms\n",
            "793:\tlearn: 0.2490821\ttotal: 1.75s\tremaining: 455ms\n",
            "794:\tlearn: 0.2489513\ttotal: 1.76s\tremaining: 453ms\n",
            "795:\tlearn: 0.2488183\ttotal: 1.76s\tremaining: 451ms\n",
            "796:\tlearn: 0.2485624\ttotal: 1.76s\tremaining: 449ms\n",
            "797:\tlearn: 0.2483542\ttotal: 1.76s\tremaining: 447ms\n",
            "798:\tlearn: 0.2482108\ttotal: 1.77s\tremaining: 444ms\n",
            "799:\tlearn: 0.2479598\ttotal: 1.77s\tremaining: 442ms\n",
            "800:\tlearn: 0.2478460\ttotal: 1.77s\tremaining: 440ms\n",
            "801:\tlearn: 0.2476258\ttotal: 1.77s\tremaining: 438ms\n",
            "802:\tlearn: 0.2475721\ttotal: 1.77s\tremaining: 436ms\n",
            "803:\tlearn: 0.2473386\ttotal: 1.78s\tremaining: 433ms\n",
            "804:\tlearn: 0.2472908\ttotal: 1.78s\tremaining: 431ms\n",
            "805:\tlearn: 0.2470055\ttotal: 1.78s\tremaining: 429ms\n",
            "806:\tlearn: 0.2467723\ttotal: 1.78s\tremaining: 427ms\n",
            "807:\tlearn: 0.2466554\ttotal: 1.78s\tremaining: 424ms\n",
            "808:\tlearn: 0.2464401\ttotal: 1.79s\tremaining: 422ms\n",
            "809:\tlearn: 0.2462562\ttotal: 1.79s\tremaining: 420ms\n",
            "810:\tlearn: 0.2461718\ttotal: 1.79s\tremaining: 418ms\n",
            "811:\tlearn: 0.2459030\ttotal: 1.79s\tremaining: 415ms\n",
            "812:\tlearn: 0.2457661\ttotal: 1.8s\tremaining: 413ms\n",
            "813:\tlearn: 0.2454599\ttotal: 1.8s\tremaining: 411ms\n",
            "814:\tlearn: 0.2452877\ttotal: 1.8s\tremaining: 409ms\n",
            "815:\tlearn: 0.2451631\ttotal: 1.8s\tremaining: 406ms\n",
            "816:\tlearn: 0.2449151\ttotal: 1.8s\tremaining: 404ms\n",
            "817:\tlearn: 0.2447558\ttotal: 1.81s\tremaining: 402ms\n",
            "818:\tlearn: 0.2443559\ttotal: 1.81s\tremaining: 400ms\n",
            "819:\tlearn: 0.2441851\ttotal: 1.81s\tremaining: 397ms\n",
            "820:\tlearn: 0.2440877\ttotal: 1.81s\tremaining: 395ms\n",
            "821:\tlearn: 0.2439159\ttotal: 1.81s\tremaining: 393ms\n",
            "822:\tlearn: 0.2437529\ttotal: 1.82s\tremaining: 391ms\n",
            "823:\tlearn: 0.2434944\ttotal: 1.82s\tremaining: 389ms\n",
            "824:\tlearn: 0.2433217\ttotal: 1.82s\tremaining: 386ms\n",
            "825:\tlearn: 0.2431407\ttotal: 1.82s\tremaining: 384ms\n",
            "826:\tlearn: 0.2429935\ttotal: 1.82s\tremaining: 382ms\n",
            "827:\tlearn: 0.2428338\ttotal: 1.83s\tremaining: 380ms\n",
            "828:\tlearn: 0.2427393\ttotal: 1.83s\tremaining: 377ms\n",
            "829:\tlearn: 0.2426432\ttotal: 1.83s\tremaining: 375ms\n",
            "830:\tlearn: 0.2424760\ttotal: 1.83s\tremaining: 373ms\n",
            "831:\tlearn: 0.2423381\ttotal: 1.83s\tremaining: 371ms\n",
            "832:\tlearn: 0.2421492\ttotal: 1.84s\tremaining: 368ms\n",
            "833:\tlearn: 0.2419949\ttotal: 1.84s\tremaining: 366ms\n",
            "834:\tlearn: 0.2417450\ttotal: 1.84s\tremaining: 364ms\n",
            "835:\tlearn: 0.2415552\ttotal: 1.85s\tremaining: 362ms\n",
            "836:\tlearn: 0.2413276\ttotal: 1.85s\tremaining: 360ms\n",
            "837:\tlearn: 0.2408587\ttotal: 1.85s\tremaining: 358ms\n",
            "838:\tlearn: 0.2407057\ttotal: 1.85s\tremaining: 356ms\n",
            "839:\tlearn: 0.2405439\ttotal: 1.85s\tremaining: 354ms\n",
            "840:\tlearn: 0.2404433\ttotal: 1.86s\tremaining: 351ms\n",
            "841:\tlearn: 0.2402735\ttotal: 1.86s\tremaining: 349ms\n",
            "842:\tlearn: 0.2401362\ttotal: 1.86s\tremaining: 347ms\n",
            "843:\tlearn: 0.2399789\ttotal: 1.86s\tremaining: 345ms\n",
            "844:\tlearn: 0.2398500\ttotal: 1.87s\tremaining: 342ms\n",
            "845:\tlearn: 0.2396585\ttotal: 1.87s\tremaining: 340ms\n",
            "846:\tlearn: 0.2395086\ttotal: 1.87s\tremaining: 338ms\n",
            "847:\tlearn: 0.2393168\ttotal: 1.87s\tremaining: 336ms\n",
            "848:\tlearn: 0.2391168\ttotal: 1.87s\tremaining: 333ms\n",
            "849:\tlearn: 0.2389248\ttotal: 1.88s\tremaining: 331ms\n",
            "850:\tlearn: 0.2388332\ttotal: 1.88s\tremaining: 329ms\n",
            "851:\tlearn: 0.2386656\ttotal: 1.88s\tremaining: 327ms\n",
            "852:\tlearn: 0.2384219\ttotal: 1.88s\tremaining: 325ms\n",
            "853:\tlearn: 0.2381879\ttotal: 1.89s\tremaining: 323ms\n",
            "854:\tlearn: 0.2379075\ttotal: 1.89s\tremaining: 320ms\n",
            "855:\tlearn: 0.2377467\ttotal: 1.89s\tremaining: 318ms\n",
            "856:\tlearn: 0.2375550\ttotal: 1.89s\tremaining: 316ms\n",
            "857:\tlearn: 0.2373412\ttotal: 1.9s\tremaining: 314ms\n",
            "858:\tlearn: 0.2371421\ttotal: 1.9s\tremaining: 311ms\n",
            "859:\tlearn: 0.2369665\ttotal: 1.9s\tremaining: 309ms\n",
            "860:\tlearn: 0.2367199\ttotal: 1.9s\tremaining: 307ms\n",
            "861:\tlearn: 0.2365564\ttotal: 1.9s\tremaining: 305ms\n",
            "862:\tlearn: 0.2362692\ttotal: 1.91s\tremaining: 303ms\n",
            "863:\tlearn: 0.2361297\ttotal: 1.91s\tremaining: 300ms\n",
            "864:\tlearn: 0.2359460\ttotal: 1.91s\tremaining: 298ms\n",
            "865:\tlearn: 0.2357387\ttotal: 1.91s\tremaining: 296ms\n",
            "866:\tlearn: 0.2355005\ttotal: 1.91s\tremaining: 294ms\n",
            "867:\tlearn: 0.2354519\ttotal: 1.92s\tremaining: 292ms\n",
            "868:\tlearn: 0.2352480\ttotal: 1.92s\tremaining: 289ms\n",
            "869:\tlearn: 0.2351401\ttotal: 1.92s\tremaining: 287ms\n",
            "870:\tlearn: 0.2350320\ttotal: 1.92s\tremaining: 285ms\n",
            "871:\tlearn: 0.2348608\ttotal: 1.93s\tremaining: 283ms\n",
            "872:\tlearn: 0.2346808\ttotal: 1.93s\tremaining: 280ms\n",
            "873:\tlearn: 0.2344187\ttotal: 1.93s\tremaining: 278ms\n",
            "874:\tlearn: 0.2342884\ttotal: 1.93s\tremaining: 276ms\n",
            "875:\tlearn: 0.2340656\ttotal: 1.93s\tremaining: 274ms\n",
            "876:\tlearn: 0.2338955\ttotal: 1.94s\tremaining: 271ms\n",
            "877:\tlearn: 0.2335578\ttotal: 1.94s\tremaining: 269ms\n",
            "878:\tlearn: 0.2334341\ttotal: 1.94s\tremaining: 267ms\n",
            "879:\tlearn: 0.2332885\ttotal: 1.94s\tremaining: 265ms\n",
            "880:\tlearn: 0.2330356\ttotal: 1.94s\tremaining: 263ms\n",
            "881:\tlearn: 0.2329051\ttotal: 1.95s\tremaining: 260ms\n",
            "882:\tlearn: 0.2328113\ttotal: 1.95s\tremaining: 258ms\n",
            "883:\tlearn: 0.2326304\ttotal: 1.95s\tremaining: 256ms\n",
            "884:\tlearn: 0.2325096\ttotal: 1.96s\tremaining: 254ms\n",
            "885:\tlearn: 0.2324043\ttotal: 1.96s\tremaining: 252ms\n",
            "886:\tlearn: 0.2322598\ttotal: 1.96s\tremaining: 250ms\n",
            "887:\tlearn: 0.2321273\ttotal: 1.96s\tremaining: 247ms\n",
            "888:\tlearn: 0.2319336\ttotal: 1.96s\tremaining: 245ms\n",
            "889:\tlearn: 0.2317353\ttotal: 1.97s\tremaining: 243ms\n",
            "890:\tlearn: 0.2315159\ttotal: 1.97s\tremaining: 241ms\n",
            "891:\tlearn: 0.2314601\ttotal: 1.97s\tremaining: 239ms\n",
            "892:\tlearn: 0.2313552\ttotal: 1.97s\tremaining: 236ms\n",
            "893:\tlearn: 0.2311453\ttotal: 1.97s\tremaining: 234ms\n",
            "894:\tlearn: 0.2309322\ttotal: 1.98s\tremaining: 232ms\n",
            "895:\tlearn: 0.2307032\ttotal: 1.98s\tremaining: 230ms\n",
            "896:\tlearn: 0.2304464\ttotal: 1.98s\tremaining: 227ms\n",
            "897:\tlearn: 0.2303621\ttotal: 1.98s\tremaining: 225ms\n",
            "898:\tlearn: 0.2303015\ttotal: 1.99s\tremaining: 223ms\n",
            "899:\tlearn: 0.2302388\ttotal: 1.99s\tremaining: 221ms\n",
            "900:\tlearn: 0.2301332\ttotal: 1.99s\tremaining: 219ms\n",
            "901:\tlearn: 0.2300446\ttotal: 1.99s\tremaining: 216ms\n",
            "902:\tlearn: 0.2298000\ttotal: 1.99s\tremaining: 214ms\n",
            "903:\tlearn: 0.2296662\ttotal: 2s\tremaining: 212ms\n",
            "904:\tlearn: 0.2295492\ttotal: 2s\tremaining: 210ms\n",
            "905:\tlearn: 0.2293692\ttotal: 2s\tremaining: 207ms\n",
            "906:\tlearn: 0.2292807\ttotal: 2s\tremaining: 205ms\n",
            "907:\tlearn: 0.2289582\ttotal: 2s\tremaining: 203ms\n",
            "908:\tlearn: 0.2286663\ttotal: 2s\tremaining: 201ms\n",
            "909:\tlearn: 0.2284537\ttotal: 2.01s\tremaining: 199ms\n",
            "910:\tlearn: 0.2282858\ttotal: 2.01s\tremaining: 196ms\n",
            "911:\tlearn: 0.2280920\ttotal: 2.01s\tremaining: 194ms\n",
            "912:\tlearn: 0.2280049\ttotal: 2.01s\tremaining: 192ms\n",
            "913:\tlearn: 0.2277823\ttotal: 2.02s\tremaining: 190ms\n",
            "914:\tlearn: 0.2276215\ttotal: 2.02s\tremaining: 187ms\n",
            "915:\tlearn: 0.2273664\ttotal: 2.02s\tremaining: 185ms\n",
            "916:\tlearn: 0.2270458\ttotal: 2.02s\tremaining: 183ms\n",
            "917:\tlearn: 0.2268614\ttotal: 2.02s\tremaining: 181ms\n",
            "918:\tlearn: 0.2267576\ttotal: 2.03s\tremaining: 179ms\n",
            "919:\tlearn: 0.2265535\ttotal: 2.03s\tremaining: 176ms\n",
            "920:\tlearn: 0.2263846\ttotal: 2.03s\tremaining: 174ms\n",
            "921:\tlearn: 0.2262140\ttotal: 2.04s\tremaining: 173ms\n",
            "922:\tlearn: 0.2260277\ttotal: 2.04s\tremaining: 170ms\n",
            "923:\tlearn: 0.2257703\ttotal: 2.04s\tremaining: 168ms\n",
            "924:\tlearn: 0.2256035\ttotal: 2.05s\tremaining: 166ms\n",
            "925:\tlearn: 0.2253247\ttotal: 2.05s\tremaining: 164ms\n",
            "926:\tlearn: 0.2251854\ttotal: 2.05s\tremaining: 162ms\n",
            "927:\tlearn: 0.2250897\ttotal: 2.05s\tremaining: 159ms\n",
            "928:\tlearn: 0.2249139\ttotal: 2.06s\tremaining: 157ms\n",
            "929:\tlearn: 0.2247469\ttotal: 2.06s\tremaining: 155ms\n",
            "930:\tlearn: 0.2246329\ttotal: 2.06s\tremaining: 153ms\n",
            "931:\tlearn: 0.2244120\ttotal: 2.06s\tremaining: 150ms\n",
            "932:\tlearn: 0.2243301\ttotal: 2.06s\tremaining: 148ms\n",
            "933:\tlearn: 0.2241072\ttotal: 2.06s\tremaining: 146ms\n",
            "934:\tlearn: 0.2238628\ttotal: 2.07s\tremaining: 144ms\n",
            "935:\tlearn: 0.2237198\ttotal: 2.07s\tremaining: 142ms\n",
            "936:\tlearn: 0.2236152\ttotal: 2.07s\tremaining: 139ms\n",
            "937:\tlearn: 0.2233799\ttotal: 2.08s\tremaining: 137ms\n",
            "938:\tlearn: 0.2232899\ttotal: 2.08s\tremaining: 135ms\n",
            "939:\tlearn: 0.2232271\ttotal: 2.08s\tremaining: 133ms\n",
            "940:\tlearn: 0.2230138\ttotal: 2.08s\tremaining: 131ms\n",
            "941:\tlearn: 0.2227802\ttotal: 2.08s\tremaining: 128ms\n",
            "942:\tlearn: 0.2226306\ttotal: 2.09s\tremaining: 126ms\n",
            "943:\tlearn: 0.2223880\ttotal: 2.09s\tremaining: 124ms\n",
            "944:\tlearn: 0.2221892\ttotal: 2.09s\tremaining: 122ms\n",
            "945:\tlearn: 0.2219901\ttotal: 2.1s\tremaining: 120ms\n",
            "946:\tlearn: 0.2217864\ttotal: 2.1s\tremaining: 117ms\n",
            "947:\tlearn: 0.2216107\ttotal: 2.1s\tremaining: 115ms\n",
            "948:\tlearn: 0.2213814\ttotal: 2.1s\tremaining: 113ms\n",
            "949:\tlearn: 0.2212006\ttotal: 2.11s\tremaining: 111ms\n",
            "950:\tlearn: 0.2210285\ttotal: 2.11s\tremaining: 109ms\n",
            "951:\tlearn: 0.2208622\ttotal: 2.11s\tremaining: 106ms\n",
            "952:\tlearn: 0.2208127\ttotal: 2.11s\tremaining: 104ms\n",
            "953:\tlearn: 0.2206729\ttotal: 2.12s\tremaining: 102ms\n",
            "954:\tlearn: 0.2205243\ttotal: 2.12s\tremaining: 99.8ms\n",
            "955:\tlearn: 0.2203961\ttotal: 2.12s\tremaining: 97.6ms\n",
            "956:\tlearn: 0.2202336\ttotal: 2.12s\tremaining: 95.4ms\n",
            "957:\tlearn: 0.2200975\ttotal: 2.12s\tremaining: 93.1ms\n",
            "958:\tlearn: 0.2199098\ttotal: 2.13s\tremaining: 90.9ms\n",
            "959:\tlearn: 0.2197783\ttotal: 2.13s\tremaining: 88.7ms\n",
            "960:\tlearn: 0.2196304\ttotal: 2.13s\tremaining: 86.5ms\n",
            "961:\tlearn: 0.2195077\ttotal: 2.13s\tremaining: 84.2ms\n",
            "962:\tlearn: 0.2194029\ttotal: 2.13s\tremaining: 82ms\n",
            "963:\tlearn: 0.2192383\ttotal: 2.14s\tremaining: 79.8ms\n",
            "964:\tlearn: 0.2190425\ttotal: 2.14s\tremaining: 77.6ms\n",
            "965:\tlearn: 0.2188720\ttotal: 2.14s\tremaining: 75.4ms\n",
            "966:\tlearn: 0.2187049\ttotal: 2.14s\tremaining: 73.1ms\n",
            "967:\tlearn: 0.2185399\ttotal: 2.15s\tremaining: 70.9ms\n",
            "968:\tlearn: 0.2184138\ttotal: 2.15s\tremaining: 68.7ms\n",
            "969:\tlearn: 0.2182373\ttotal: 2.15s\tremaining: 66.5ms\n",
            "970:\tlearn: 0.2180338\ttotal: 2.15s\tremaining: 64.3ms\n",
            "971:\tlearn: 0.2178307\ttotal: 2.15s\tremaining: 62.1ms\n",
            "972:\tlearn: 0.2176261\ttotal: 2.16s\tremaining: 59.9ms\n",
            "973:\tlearn: 0.2174111\ttotal: 2.16s\tremaining: 57.7ms\n",
            "974:\tlearn: 0.2172410\ttotal: 2.16s\tremaining: 55.4ms\n",
            "975:\tlearn: 0.2170949\ttotal: 2.16s\tremaining: 53.2ms\n",
            "976:\tlearn: 0.2169113\ttotal: 2.17s\tremaining: 51ms\n",
            "977:\tlearn: 0.2167625\ttotal: 2.17s\tremaining: 48.8ms\n",
            "978:\tlearn: 0.2165660\ttotal: 2.17s\tremaining: 46.6ms\n",
            "979:\tlearn: 0.2164553\ttotal: 2.17s\tremaining: 44.3ms\n",
            "980:\tlearn: 0.2163328\ttotal: 2.17s\tremaining: 42.1ms\n",
            "981:\tlearn: 0.2162834\ttotal: 2.18s\tremaining: 39.9ms\n",
            "982:\tlearn: 0.2161799\ttotal: 2.18s\tremaining: 37.7ms\n",
            "983:\tlearn: 0.2160275\ttotal: 2.18s\tremaining: 35.5ms\n",
            "984:\tlearn: 0.2160017\ttotal: 2.18s\tremaining: 33.2ms\n",
            "985:\tlearn: 0.2158660\ttotal: 2.18s\tremaining: 31ms\n",
            "986:\tlearn: 0.2157461\ttotal: 2.19s\tremaining: 28.8ms\n",
            "987:\tlearn: 0.2156203\ttotal: 2.19s\tremaining: 26.6ms\n",
            "988:\tlearn: 0.2154256\ttotal: 2.19s\tremaining: 24.4ms\n",
            "989:\tlearn: 0.2152629\ttotal: 2.19s\tremaining: 22.2ms\n",
            "990:\tlearn: 0.2150794\ttotal: 2.2s\tremaining: 19.9ms\n",
            "991:\tlearn: 0.2148964\ttotal: 2.2s\tremaining: 17.7ms\n",
            "992:\tlearn: 0.2147883\ttotal: 2.2s\tremaining: 15.5ms\n",
            "993:\tlearn: 0.2147130\ttotal: 2.2s\tremaining: 13.3ms\n",
            "994:\tlearn: 0.2146850\ttotal: 2.21s\tremaining: 11.1ms\n",
            "995:\tlearn: 0.2145047\ttotal: 2.21s\tremaining: 8.87ms\n",
            "996:\tlearn: 0.2144584\ttotal: 2.21s\tremaining: 6.65ms\n",
            "997:\tlearn: 0.2142762\ttotal: 2.21s\tremaining: 4.43ms\n",
            "998:\tlearn: 0.2141268\ttotal: 2.21s\tremaining: 2.22ms\n",
            "999:\tlearn: 0.2140893\ttotal: 2.22s\tremaining: 0us\n",
            "Test score is  0.8292682926829268\n",
            "Precision score is 0.8285714285714286\n",
            "Recall score is 0.9666666666666667\n",
            "Confusion Matrix is \n",
            " [[15 18]\n",
            " [ 3 87]]\n"
          ],
          "name": "stdout"
        }
      ]
    },
    {
      "cell_type": "code",
      "metadata": {
        "id": "D4unozfxX15y",
        "colab_type": "code",
        "colab": {
          "base_uri": "https://localhost:8080/",
          "height": 119
        },
        "outputId": "8b74c949-078d-43b8-f164-2961644ae894"
      },
      "source": [
        "#XG Boost #XGBoost required that all columns are unique so that is why when we do get dummies for One hot encoding then we have to use prefix in it\n",
        "X_train, X_test, y_train, y_test= train_test_split(df_train_data,y_df_train_data,test_size=0.2, random_state=0) \n",
        "xgb_model = XGBClassifier(base_estimator=ridge, random_state=0)\n",
        "xgb_model.fit(X_train, y_train)\n",
        "y_pred=xgb_model.predict(X_test)\n",
        "score=accuracy_score(y_test,y_pred)\n",
        "print(\"Test score is \",score)\n",
        "print(\"Precision score is\",precision_score(y_test,y_pred))\n",
        "print(\"Recall score is\",recall_score(y_test,y_pred))\n",
        "print(\"Confusion Matrix is \\n\",confusion_matrix(y_test,y_pred))"
      ],
      "execution_count": 35,
      "outputs": [
        {
          "output_type": "stream",
          "text": [
            "Test score is  0.8373983739837398\n",
            "Precision score is 0.8365384615384616\n",
            "Recall score is 0.9666666666666667\n",
            "Confusion Matrix is \n",
            " [[16 17]\n",
            " [ 3 87]]\n"
          ],
          "name": "stdout"
        }
      ]
    },
    {
      "cell_type": "markdown",
      "metadata": {
        "id": "PXMzOX0ak_pB",
        "colab_type": "text"
      },
      "source": [
        "Submitting the best Model Catboost or Ensemble "
      ]
    },
    {
      "cell_type": "code",
      "metadata": {
        "id": "cQGxmoslms3u",
        "colab_type": "code",
        "colab": {
          "base_uri": "https://localhost:8080/",
          "height": 204
        },
        "outputId": "78006ddb-5aa3-47fd-cab2-04b0c9f5be5b"
      },
      "source": [
        "submission_test=pd.read_csv('test_lAUu6dG.csv')\n",
        "test_pred = sclf.predict(df_test_data)\n",
        "submission = pd.DataFrame({'Loan_ID':submission_test['Loan_ID'],'Loan_Status':test_pred})\n",
        "submission['Loan_Status']= submission['Loan_Status'].map({1:'Y',0:'N'})\n",
        "\n",
        "#Visualize the first 5 rows\n",
        "submission.head()\n"
      ],
      "execution_count": 36,
      "outputs": [
        {
          "output_type": "execute_result",
          "data": {
            "text/html": [
              "<div>\n",
              "<style scoped>\n",
              "    .dataframe tbody tr th:only-of-type {\n",
              "        vertical-align: middle;\n",
              "    }\n",
              "\n",
              "    .dataframe tbody tr th {\n",
              "        vertical-align: top;\n",
              "    }\n",
              "\n",
              "    .dataframe thead th {\n",
              "        text-align: right;\n",
              "    }\n",
              "</style>\n",
              "<table border=\"1\" class=\"dataframe\">\n",
              "  <thead>\n",
              "    <tr style=\"text-align: right;\">\n",
              "      <th></th>\n",
              "      <th>Loan_ID</th>\n",
              "      <th>Loan_Status</th>\n",
              "    </tr>\n",
              "  </thead>\n",
              "  <tbody>\n",
              "    <tr>\n",
              "      <th>0</th>\n",
              "      <td>LP001015</td>\n",
              "      <td>Y</td>\n",
              "    </tr>\n",
              "    <tr>\n",
              "      <th>1</th>\n",
              "      <td>LP001022</td>\n",
              "      <td>Y</td>\n",
              "    </tr>\n",
              "    <tr>\n",
              "      <th>2</th>\n",
              "      <td>LP001031</td>\n",
              "      <td>Y</td>\n",
              "    </tr>\n",
              "    <tr>\n",
              "      <th>3</th>\n",
              "      <td>LP001035</td>\n",
              "      <td>Y</td>\n",
              "    </tr>\n",
              "    <tr>\n",
              "      <th>4</th>\n",
              "      <td>LP001051</td>\n",
              "      <td>Y</td>\n",
              "    </tr>\n",
              "  </tbody>\n",
              "</table>\n",
              "</div>"
            ],
            "text/plain": [
              "    Loan_ID Loan_Status\n",
              "0  LP001015           Y\n",
              "1  LP001022           Y\n",
              "2  LP001031           Y\n",
              "3  LP001035           Y\n",
              "4  LP001051           Y"
            ]
          },
          "metadata": {
            "tags": []
          },
          "execution_count": 36
        }
      ]
    },
    {
      "cell_type": "code",
      "metadata": {
        "id": "fFywFKYAsofk",
        "colab_type": "code",
        "colab": {
          "base_uri": "https://localhost:8080/",
          "height": 34
        },
        "outputId": "bd79eb33-810c-4880-e540-a475632fc358"
      },
      "source": [
        "filename = 'Loan_Prediction_Test2.csv'\n",
        "\n",
        "submission.to_csv(filename,index=False)\n",
        "\n",
        "print('Saved file: ' + filename)"
      ],
      "execution_count": 37,
      "outputs": [
        {
          "output_type": "stream",
          "text": [
            "Saved file: Loan_Prediction_Test2.csv\n"
          ],
          "name": "stdout"
        }
      ]
    },
    {
      "cell_type": "code",
      "metadata": {
        "id": "COYyWdDglrSE",
        "colab_type": "code",
        "colab": {}
      },
      "source": [
        ""
      ],
      "execution_count": 37,
      "outputs": []
    }
  ]
}